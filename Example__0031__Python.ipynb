{
  "nbformat": 4,
  "nbformat_minor": 0,
  "metadata": {
    "colab": {
      "name": "Example__0031__Python.ipynb",
      "provenance": [],
      "collapsed_sections": [],
      "authorship_tag": "ABX9TyOFwBkkoeiyKOLx31bB0ti5"
    },
    "kernelspec": {
      "name": "python3",
      "display_name": "Python 3"
    },
    "language_info": {
      "name": "python"
    }
  },
  "cells": [
    {
      "cell_type": "markdown",
      "source": [
        "Write a program that takes your full name as input and displays the abbreviations of the first and middle names except the last name which is displayed as it is. For example, if your name is Mustafa Bilal Doğan\n",
        "\n",
        "\n",
        "\n",
        "Tam adınızı girdi olarak alan ve görüntülenen soyadı dışındaki ad ve ikinci adların kısaltmalarını görüntüleyen bir program yazın. Örneğin, adınız Mustafa Bilal Doğan\n",
        "\n",
        "Expected Output\n",
        "\n",
        "M  _________ B_____  DOĞAN"
      ],
      "metadata": {
        "id": "2hN7_hoRm4Y0"
      }
    },
    {
      "cell_type": "code",
      "source": [
        "name = list(map(str.upper,input(\"Enter a name = \").split()))\n",
        "less_name = \"\"\n",
        "\n",
        "for i in range(len(name)-1):\n",
        "  less_name += name[i][0] + (\"*\") * len(name[i][1:]) + \" \"\n",
        "less_name += name[-1]\n",
        "  \n",
        "print(less_name)  "
      ],
      "metadata": {
        "colab": {
          "base_uri": "https://localhost:8080/"
        },
        "id": "eGe6sZYfsqYO",
        "outputId": "e9bf7e48-72b1-463f-a7d0-6a13ba9753b6"
      },
      "execution_count": 40,
      "outputs": [
        {
          "output_type": "stream",
          "name": "stdout",
          "text": [
            "Enter a name = mustafa bilal doğan\n",
            "M****** B**** DOĞAN\n"
          ]
        }
      ]
    }
  ]
}