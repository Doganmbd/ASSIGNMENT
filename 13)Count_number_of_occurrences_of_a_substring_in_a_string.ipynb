{
  "nbformat": 4,
  "nbformat_minor": 0,
  "metadata": {
    "colab": {
      "name": "13)Count number of occurrences of a substring in a string.ipynb",
      "provenance": [],
      "authorship_tag": "ABX9TyML++X4sV0xqXpGyAU1uHhx",
      "include_colab_link": true
    },
    "kernelspec": {
      "name": "python3",
      "display_name": "Python 3"
    },
    "language_info": {
      "name": "python"
    }
  },
  "cells": [
    {
      "cell_type": "markdown",
      "metadata": {
        "id": "view-in-github",
        "colab_type": "text"
      },
      "source": [
        "<a href=\"https://colab.research.google.com/github/Dogan-mb/ASSIGNMENT/blob/main/13)Count_number_of_occurrences_of_a_substring_in_a_string.ipynb\" target=\"_parent\"><img src=\"https://colab.research.google.com/assets/colab-badge.svg\" alt=\"Open In Colab\"/></a>"
      ]
    },
    {
      "cell_type": "code",
      "execution_count": 3,
      "metadata": {
        "colab": {
          "base_uri": "https://localhost:8080/"
        },
        "id": "OsaIzb-yeC1P",
        "outputId": "fd77df11-8a94-40af-d5b5-447557054585"
      },
      "outputs": [
        {
          "output_type": "stream",
          "name": "stdout",
          "text": [
            "Enter a text = Mustafa Bilal Doğan\n",
            "Enter a subtext = a\n",
            "4\n"
          ]
        }
      ],
      "source": [
        "# In the string received from the user, how many substrings are there, again from the user. counting program\n",
        "\n",
        "text = input(\"Enter a text = \")\n",
        "sub_text = input(\"Enter a subtext = \")\n",
        "counter = 0\n",
        "\n",
        "for i in range(len(text)):\n",
        "  if text[i : i + len(sub_text)] == sub_text:\n",
        "    counter += 1\n",
        "\n",
        "print(counter)    \n",
        "\n"
      ]
    }
  ]
}