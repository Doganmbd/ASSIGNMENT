{
  "nbformat": 4,
  "nbformat_minor": 0,
  "metadata": {
    "colab": {
      "name": "3)GCD_greatest_common_divisor.ipynb",
      "provenance": [],
      "authorship_tag": "ABX9TyPRj4yJFqZolJY+53Au5f1H"
    },
    "kernelspec": {
      "name": "python3",
      "display_name": "Python 3"
    },
    "language_info": {
      "name": "python"
    }
  },
  "cells": [
    {
      "cell_type": "code",
      "metadata": {
        "colab": {
          "base_uri": "https://localhost:8080/"
        },
        "id": "NsNUAo5HGoJe",
        "outputId": "67c0d6ea-d1d8-4172-91aa-698e97cade5e"
      },
      "source": [
        "# Write a Python program to compute the greatest common divisor (GCD) of two positive integers\n",
        "\n",
        "number_1 = int(input(\"Enter a first number = \"))\n",
        "number_2 =int(input(\"Enter a second number = \"))\n",
        "my_list = []\n",
        "if number_1< number_2 :\n",
        "  dividing = number_1\n",
        "\n",
        "else :\n",
        "  dividing=number_2\n",
        "\n",
        "for i in range(1,dividing + 1):\n",
        "  if number_1% i == 0 and number_2 % i ==0:\n",
        "    output = i\n",
        "\n",
        "print(\"EBOB/GCD = \", output)\n",
        "           "
      ],
      "execution_count": 2,
      "outputs": [
        {
          "output_type": "stream",
          "name": "stdout",
          "text": [
            "Enter a first number = 45\n",
            "Enter a second number = 105\n",
            "EBOB/GCD =  15\n"
          ]
        }
      ]
    },
    {
      "cell_type": "code",
      "source": [
        "number_1 = int(input(\"Enter a first number = \"))\n",
        "number_2 =int(input(\"Enter a second number = \"))\n",
        "\n",
        "for i in range(1,min(number_1,number_2) +1):\n",
        "    if (number_1 % i==0) and (number_2 % i ==0):\n",
        "        output = i\n",
        "print(\"EBOB/GCD = \", output)"
      ],
      "metadata": {
        "colab": {
          "base_uri": "https://localhost:8080/"
        },
        "id": "OsK4IsAbSEup",
        "outputId": "ee7cda04-8de9-4ab0-b534-487610355196"
      },
      "execution_count": 1,
      "outputs": [
        {
          "output_type": "stream",
          "name": "stdout",
          "text": [
            "Enter a first number = 45\n",
            "Enter a second number = 105\n",
            "EBOB/GCD =  15\n"
          ]
        }
      ]
    }
  ]
}