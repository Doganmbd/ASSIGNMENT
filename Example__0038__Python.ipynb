{
  "nbformat": 4,
  "nbformat_minor": 0,
  "metadata": {
    "colab": {
      "name": "Example__0038__Python.ipynb",
      "provenance": [],
      "collapsed_sections": [],
      "authorship_tag": "ABX9TyMb1tRHJeuyOa3nLNZCvbhu"
    },
    "kernelspec": {
      "name": "python3",
      "display_name": "Python 3"
    },
    "language_info": {
      "name": "python"
    }
  },
  "cells": [
    {
      "cell_type": "markdown",
      "source": [
        "You are given three integers i, j and k representing the dimensions of a cuboid along with an integer n. Print a list of all possible coordinates given by (i, j, k) on a 3D grid where the sum i + j + k of is not equal to n .\n",
        "\n",
        "Size bir n tamsayısıyla birlikte bir küboidin boyutlarını temsil eden üç i, j ve k tamsayısı verildi. (i, j, k) tarafından verilen tüm olası koordinatların bir listesini, i + j + k toplamının n'ye eşit olmadığı bir 3B yazdırın.\n",
        "\n",
        "Sample Input 0\n",
        "\n",
        "1\n",
        "\n",
        "1\n",
        "\n",
        "1\n",
        "\n",
        "2\n",
        "\n",
        "Sample Output 0\n",
        "\n",
        "[[0, 0, 0], [0, 0, 1], [0, 1, 0], [1, 0, 0], [1, 1, 1]]\n",
        "\n",
        "Print an array of the elements that do not sum to 2 ."
      ],
      "metadata": {
        "id": "hpd1EBDtMdoR"
      }
    },
    {
      "cell_type": "code",
      "source": [
        "x, y, z, t =int(input(\"\")), int(input(\"\")), int(input(\"\")), int(input(\"\"))\n",
        "\n",
        "cuboid= [[i, j, k] for i in range(x + 1) for j in range(y + 1) for k in range(z + 1) if i + j + k != t]\n",
        "print(cuboid)"
      ],
      "metadata": {
        "colab": {
          "base_uri": "https://localhost:8080/"
        },
        "id": "cicZ3lNXNHFz",
        "outputId": "a632a5d2-a4e2-4a93-a034-6e3378f81e85"
      },
      "execution_count": 19,
      "outputs": [
        {
          "output_type": "stream",
          "name": "stdout",
          "text": [
            "1\n",
            "1\n",
            "1\n",
            "2\n",
            "[[0, 0, 0], [0, 0, 1], [0, 1, 0], [1, 0, 0], [1, 1, 1]]\n"
          ]
        }
      ]
    }
  ]
}