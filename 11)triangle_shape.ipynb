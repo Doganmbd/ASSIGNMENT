{
  "nbformat": 4,
  "nbformat_minor": 0,
  "metadata": {
    "colab": {
      "name": "11)triangle_shape.ipynb",
      "provenance": [],
      "collapsed_sections": [],
      "authorship_tag": "ABX9TyMKFczc/cs7j37KZ+8z3I/S"
    },
    "kernelspec": {
      "name": "python3",
      "display_name": "Python 3"
    },
    "language_info": {
      "name": "python"
    }
  },
  "cells": [
    {
      "cell_type": "code",
      "execution_count": 42,
      "metadata": {
        "colab": {
          "base_uri": "https://localhost:8080/"
        },
        "id": "WDOT5GneoOzS",
        "outputId": "3873cae4-6306-40c5-d4c4-e0cd90e160d9"
      },
      "outputs": [
        {
          "output_type": "stream",
          "name": "stdout",
          "text": [
            " + \n",
            " +  + \n",
            " +  +  + \n",
            " +  +  +  + \n",
            " +  +  +  +  + \n",
            " +  +  +  +  +  + \n",
            " +  +  +  +  +  +  + \n",
            " +  +  +  +  +  +  +  + \n",
            " +  +  +  +  +  +  +  +  + \n",
            " +  +  +  +  +  +  +  +  +  + \n"
          ]
        }
      ],
      "source": [
        "# Triangle shape making functions in different formats\n",
        "\n",
        "for i in range(1,11):\n",
        "  print(i * \" + \")"
      ]
    },
    {
      "cell_type": "code",
      "source": [
        "# Triangle shape making functions in different formats.Get limit value from user.\n",
        "\n",
        "number = int(input(\"Enter a limit number = \"))\n",
        "\n",
        "for i in range(number,0,-1) :\n",
        "  print(i * \" + \")"
      ],
      "metadata": {
        "colab": {
          "base_uri": "https://localhost:8080/"
        },
        "id": "h1kUgUFqo6zS",
        "outputId": "3fba40bb-6a2b-4ec9-d752-211155faa648"
      },
      "execution_count": 43,
      "outputs": [
        {
          "output_type": "stream",
          "name": "stdout",
          "text": [
            "Enter a limit number = 10\n",
            " +  +  +  +  +  +  +  +  +  + \n",
            " +  +  +  +  +  +  +  +  + \n",
            " +  +  +  +  +  +  +  + \n",
            " +  +  +  +  +  +  + \n",
            " +  +  +  +  +  + \n",
            " +  +  +  +  + \n",
            " +  +  +  + \n",
            " +  +  + \n",
            " +  + \n",
            " + \n"
          ]
        }
      ]
    },
    {
      "cell_type": "code",
      "source": [
        "# Triangle shape making functions in different formats.Get limit value from user.\n",
        "\n",
        "number = 10\n",
        "emptiness = (2 * number) - 2                                         ## we write -2 to start the last line from zero\n",
        "for i in range(number) :\n",
        "    print(\" \" * emptiness + (i + 1) * \"+ \")                         ### The + sign is written left justified.\n",
        "    emptiness -= 2"
      ],
      "metadata": {
        "colab": {
          "base_uri": "https://localhost:8080/"
        },
        "id": "0sgaBL6o2is-",
        "outputId": "e3544724-01a3-4f0e-a097-38392d42d688"
      },
      "execution_count": 44,
      "outputs": [
        {
          "output_type": "stream",
          "name": "stdout",
          "text": [
            "                  + \n",
            "                + + \n",
            "              + + + \n",
            "            + + + + \n",
            "          + + + + + \n",
            "        + + + + + + \n",
            "      + + + + + + + \n",
            "    + + + + + + + + \n",
            "  + + + + + + + + + \n",
            "+ + + + + + + + + + \n"
          ]
        }
      ]
    },
    {
      "cell_type": "code",
      "source": [
        "# Triangle shape making functions in different formats.Get limit value from user.\n",
        "\n",
        "number = int(input(\"\"))\n",
        "space = (2 * number) - 2                                       ## we write -2 to start the last line from zero\n",
        "for i in range(number) :\n",
        "    print(\" \" * space + (i+1) * \"  + \")                     ### The + sign is written right justified.\n",
        "    space -= 2"
      ],
      "metadata": {
        "colab": {
          "base_uri": "https://localhost:8080/"
        },
        "id": "6Kdyu36p2QZW",
        "outputId": "62d01ede-9273-42d9-9c44-be28492b15a5"
      },
      "execution_count": 45,
      "outputs": [
        {
          "output_type": "stream",
          "name": "stdout",
          "text": [
            "10\n",
            "                    + \n",
            "                  +   + \n",
            "                +   +   + \n",
            "              +   +   +   + \n",
            "            +   +   +   +   + \n",
            "          +   +   +   +   +   + \n",
            "        +   +   +   +   +   +   + \n",
            "      +   +   +   +   +   +   +   + \n",
            "    +   +   +   +   +   +   +   +   + \n",
            "  +   +   +   +   +   +   +   +   +   + \n"
          ]
        }
      ]
    },
    {
      "cell_type": "code",
      "source": [
        "# Triangle shape making functions in different formats.Get limit value from user.\n",
        "\n",
        "#      1 \n",
        "#     1 2 \n",
        "#    1 2 3 \n",
        "#   1 2 3 4 \n",
        "#  1 2 3 4 5\n",
        "\n",
        "\n",
        "number = int(input(\"Enter a number limit number = \"))\n",
        "for i in range(1,number + 1) :\n",
        "  print(\" \" * (number +1 -i), *range(1,i+1))"
      ],
      "metadata": {
        "colab": {
          "base_uri": "https://localhost:8080/"
        },
        "id": "DD6D6tO_vOOx",
        "outputId": "aec7e54f-3c58-4e5b-c84a-2ba794b132d5"
      },
      "execution_count": 41,
      "outputs": [
        {
          "output_type": "stream",
          "name": "stdout",
          "text": [
            "Enter a number limit number = 10\n",
            "           1\n",
            "          1 2\n",
            "         1 2 3\n",
            "        1 2 3 4\n",
            "       1 2 3 4 5\n",
            "      1 2 3 4 5 6\n",
            "     1 2 3 4 5 6 7\n",
            "    1 2 3 4 5 6 7 8\n",
            "   1 2 3 4 5 6 7 8 9\n",
            "  1 2 3 4 5 6 7 8 9 10\n"
          ]
        }
      ]
    },
    {
      "cell_type": "code",
      "source": [
        "# Triangle shape making functions in different formats.Get limit value from user.\n",
        "\n",
        "number=int(input(\"Enter a number limit number = \"))\n",
        "\n",
        "for i in range(number,0,-1):\n",
        "  print((i * \" \"),i * \" + \" )"
      ],
      "metadata": {
        "colab": {
          "base_uri": "https://localhost:8080/"
        },
        "id": "4cMSWFe7ttQK",
        "outputId": "22dafc48-7f71-4721-f321-7830d9f184e4"
      },
      "execution_count": 46,
      "outputs": [
        {
          "output_type": "stream",
          "name": "stdout",
          "text": [
            "Enter a number limit number = 10\n",
            "            +  +  +  +  +  +  +  +  +  + \n",
            "           +  +  +  +  +  +  +  +  + \n",
            "          +  +  +  +  +  +  +  + \n",
            "         +  +  +  +  +  +  + \n",
            "        +  +  +  +  +  + \n",
            "       +  +  +  +  + \n",
            "      +  +  +  + \n",
            "     +  +  + \n",
            "    +  + \n",
            "   + \n"
          ]
        }
      ]
    },
    {
      "cell_type": "code",
      "source": [
        "# Triangle shape making functions in different formats\n",
        "\n",
        "for i in range(1,10):\n",
        "  print(*range(1,i+1))"
      ],
      "metadata": {
        "colab": {
          "base_uri": "https://localhost:8080/"
        },
        "id": "Ud9n6d-fz6Mj",
        "outputId": "6e21d3e3-8f2c-4800-f843-a8441f375a11"
      },
      "execution_count": 48,
      "outputs": [
        {
          "output_type": "stream",
          "name": "stdout",
          "text": [
            "1\n",
            "1 2\n",
            "1 2 3\n",
            "1 2 3 4\n",
            "1 2 3 4 5\n",
            "1 2 3 4 5 6\n",
            "1 2 3 4 5 6 7\n",
            "1 2 3 4 5 6 7 8\n",
            "1 2 3 4 5 6 7 8 9\n"
          ]
        }
      ]
    },
    {
      "cell_type": "code",
      "source": [
        "# Triangle shape making functions in different formats.Get limit value from user.(with numbers)\n",
        "\n",
        "number = int(input(\"Enter a limit number = \"))\n",
        "\n",
        "for i in range(1,number):\n",
        "  for j in range(1,i + 1):\n",
        "    print(j,end = \"  \")\n",
        "  print()  "
      ],
      "metadata": {
        "colab": {
          "base_uri": "https://localhost:8080/"
        },
        "id": "NvC2mBSupcuv",
        "outputId": "07038dd2-9917-4bca-e081-a2d5d45947ec"
      },
      "execution_count": 21,
      "outputs": [
        {
          "output_type": "stream",
          "name": "stdout",
          "text": [
            "Enter a limit number = 10\n",
            "1  \n",
            "1  2  \n",
            "1  2  3  \n",
            "1  2  3  4  \n",
            "1  2  3  4  5  \n",
            "1  2  3  4  5  6  \n",
            "1  2  3  4  5  6  7  \n",
            "1  2  3  4  5  6  7  8  \n",
            "1  2  3  4  5  6  7  8  9  \n"
          ]
        }
      ]
    }
  ]
}