{
  "nbformat": 4,
  "nbformat_minor": 0,
  "metadata": {
    "colab": {
      "name": "2)SORT_NUMBER.ipynb",
      "provenance": [],
      "authorship_tag": "ABX9TyNy7gkkoIp5jrrImQuDHIb9",
      "include_colab_link": true
    },
    "kernelspec": {
      "name": "python3",
      "display_name": "Python 3"
    },
    "language_info": {
      "name": "python"
    }
  },
  "cells": [
    {
      "cell_type": "markdown",
      "metadata": {
        "id": "view-in-github",
        "colab_type": "text"
      },
      "source": [
        "<a href=\"https://colab.research.google.com/github/DMB29/ASSIGNMENT1/blob/main/2)SORT_NUMBER.ipynb\" target=\"_parent\"><img src=\"https://colab.research.google.com/assets/colab-badge.svg\" alt=\"Open In Colab\"/></a>"
      ]
    },
    {
      "cell_type": "code",
      "metadata": {
        "id": "GpqQMuL623wW",
        "colab": {
          "base_uri": "https://localhost:8080/"
        },
        "outputId": "29268bbf-d4d5-44c7-fc0c-a14b90dda206"
      },
      "source": [
        "# Write a program that sorts numbers from 1 to 20 in descending order.\n",
        "\n",
        "my_list = []\n",
        "for i in range(20,0,-1):\n",
        "  my_list.append(i)\n",
        "print(my_list)  "
      ],
      "execution_count": 5,
      "outputs": [
        {
          "output_type": "stream",
          "name": "stdout",
          "text": [
            "[20, 19, 18, 17, 16, 15, 14, 13, 12, 11, 10, 9, 8, 7, 6, 5, 4, 3, 2, 1]\n"
          ]
        }
      ]
    },
    {
      "cell_type": "code",
      "metadata": {
        "colab": {
          "base_uri": "https://localhost:8080/"
        },
        "id": "YXPHKLk98bgs",
        "outputId": "39da1c7d-7439-45a8-9d49-4f0add5b34b9"
      },
      "source": [
        "my_list = sorted([i for i in range(1,21)],reverse = True)\n",
        "print(my_list)"
      ],
      "execution_count": 8,
      "outputs": [
        {
          "output_type": "stream",
          "name": "stdout",
          "text": [
            "[20, 19, 18, 17, 16, 15, 14, 13, 12, 11, 10, 9, 8, 7, 6, 5, 4, 3, 2, 1]\n"
          ]
        }
      ]
    }
  ]
}