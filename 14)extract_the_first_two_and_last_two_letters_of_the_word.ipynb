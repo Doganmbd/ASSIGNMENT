{
  "nbformat": 4,
  "nbformat_minor": 0,
  "metadata": {
    "colab": {
      "name": "14)extract the first two and last two letters of the word.ipynb",
      "provenance": [],
      "authorship_tag": "ABX9TyNdcG/yu4tXHWzZkrxPotOA",
      "include_colab_link": true
    },
    "kernelspec": {
      "name": "python3",
      "display_name": "Python 3"
    },
    "language_info": {
      "name": "python"
    }
  },
  "cells": [
    {
      "cell_type": "markdown",
      "metadata": {
        "id": "view-in-github",
        "colab_type": "text"
      },
      "source": [
        "<a href=\"https://colab.research.google.com/github/Dogan-mb/ASSIGNMENT/blob/main/14)extract_the_first_two_and_last_two_letters_of_the_word.ipynb\" target=\"_parent\"><img src=\"https://colab.research.google.com/assets/colab-badge.svg\" alt=\"Open In Colab\"/></a>"
      ]
    },
    {
      "cell_type": "code",
      "execution_count": 3,
      "metadata": {
        "colab": {
          "base_uri": "https://localhost:8080/"
        },
        "id": "fNttZZQFxkh2",
        "outputId": "cbcd0292-24d0-42bc-beb8-fdde7f55ead9"
      },
      "outputs": [
        {
          "output_type": "stream",
          "name": "stdout",
          "text": [
            "Enter a text = MUstaFA\n",
            "MUFA\n"
          ]
        }
      ],
      "source": [
        "# Write a Python program that extracts a string of first 2 and last 2 characters from a given string.\n",
        "# If the string length is less than 2, output an \"empty string\".\n",
        "\n",
        "# Verilen bir dizgeden ilk 2 ve son 2 karakterlik bir dizgiyi ayıklayan bir Python programı yazın.\n",
        "# Dize uzunluğu 2'den azsa, bir \"boş dize\" çıktısı alın.\n",
        "\n",
        "text = input(\"Enter a text = \")\n",
        "if len(text) < 2 :\n",
        "  print(\"Empty string\")\n",
        "\n",
        "else :\n",
        "  print(text[0:2] + text[-2:])\n"
      ]
    }
  ]
}