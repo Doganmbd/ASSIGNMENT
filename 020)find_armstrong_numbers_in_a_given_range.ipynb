{
  "nbformat": 4,
  "nbformat_minor": 0,
  "metadata": {
    "colab": {
      "name": "020)find armstrong numbers in a given range.ipynb",
      "provenance": [],
      "authorship_tag": "ABX9TyMe27lCbW6AYvXxu7GCSC37"
    },
    "kernelspec": {
      "name": "python3",
      "display_name": "Python 3"
    },
    "language_info": {
      "name": "python"
    }
  },
  "cells": [
    {
      "cell_type": "code",
      "execution_count": 2,
      "metadata": {
        "colab": {
          "base_uri": "https://localhost:8080/"
        },
        "id": "om8jSy0cDzTa",
        "outputId": "b960c52d-63e5-4b64-9472-fba19014a15c"
      },
      "outputs": [
        {
          "output_type": "stream",
          "name": "stdout",
          "text": [
            "Enter the numbers that will be in the range = 100  2000\n",
            "153\n",
            "370\n",
            "371\n",
            "407\n",
            "1634\n"
          ]
        }
      ],
      "source": [
        "# Write a program to find all the Armstrong numbers present in between two intervals in Python.\n",
        "# For example, Armstrong numbers between 100 and 2000\n",
        "\n",
        "\n",
        "lower_number, higher_number = list(map(int, input(\"Enter the numbers that will be in the range = \").split()))\n",
        "for i in range(lower_number, higher_number + 1) :\n",
        "  if sum([int(j) ** len(str(i)) for j in str(i)]) == i :\n",
        "    print(i)"
      ]
    },
    {
      "cell_type": "code",
      "source": [
        "my_list = []\n",
        "\n",
        "for i in range(100,2000):\n",
        "  if len(str(i)) == 4 :\n",
        "    if i == int(str([i][0])[0]) ** len(str(i)) + int(str([i][0])[1]) ** len(str(i))  + int(str([i][0])[2]) ** len(str(i)) + int(str([i][0])[3]) ** len(str(i)):\n",
        "      my_list.append(i)\n",
        "  else:\n",
        "    if i == int(str([i][0])[0]) ** len(str(i)) + int(str([i][0])[1]) ** len(str(i))  + int(str([i][0])[2]) ** len(str(i)):\n",
        "      my_list.append(i)\n",
        "\n",
        " \n",
        "\n",
        "print(my_list)   "
      ],
      "metadata": {
        "colab": {
          "base_uri": "https://localhost:8080/"
        },
        "id": "Myg0lOF9EA8X",
        "outputId": "f325fcad-4763-41f2-f5e4-d42da535c174"
      },
      "execution_count": 3,
      "outputs": [
        {
          "output_type": "stream",
          "name": "stdout",
          "text": [
            "[153, 370, 371, 407, 1634]\n"
          ]
        }
      ]
    }
  ]
}