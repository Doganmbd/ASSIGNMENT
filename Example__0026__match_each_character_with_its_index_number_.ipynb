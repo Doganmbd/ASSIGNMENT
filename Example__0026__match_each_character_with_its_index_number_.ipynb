{
  "nbformat": 4,
  "nbformat_minor": 0,
  "metadata": {
    "colab": {
      "name": "Example__0026__match each character with its index number..ipynb",
      "provenance": [],
      "collapsed_sections": [],
      "authorship_tag": "ABX9TyP8vCm6C8M/QZkrBrvD8mZT"
    },
    "kernelspec": {
      "name": "python3",
      "display_name": "Python 3"
    },
    "language_info": {
      "name": "python"
    }
  },
  "cells": [
    {
      "cell_type": "markdown",
      "source": [
        "Write a Python dictionary function that takes a string from the user and matches each character in the string with the index number.\n",
        "\n",
        "Kullanıcıdan bir string alın ve string'deki her karakteri index numarasıyla eşleştiren bir Python sözlük işlevi yazın.\n",
        "\n",
        "For Example:\n",
        "\n",
        "input : 'Bilal Doğan'\n",
        "\n",
        "output : {0: 'B', 1: 'i', 2: 'l', 3: 'a', 4: 'l', 5: ' ', 6: 'D', 7: 'o', 8: 'ğ' , 9: \"a\", 10:\"n\"}"
      ],
      "metadata": {
        "id": "FBLciptdSv7P"
      }
    },
    {
      "cell_type": "code",
      "source": [
        "input = input(\"Enter a word or phrase = \")\n",
        "output ={}\n",
        "\n",
        "for i in range(len(input)) :\n",
        "  output[i] = input[i]\n",
        "\n",
        "print(output)  "
      ],
      "metadata": {
        "colab": {
          "base_uri": "https://localhost:8080/"
        },
        "id": "Mru3TTIdOf1I",
        "outputId": "b0d86d82-7de8-464f-bdbd-f8f8e55983a4"
      },
      "execution_count": 16,
      "outputs": [
        {
          "output_type": "stream",
          "name": "stdout",
          "text": [
            "Enter a word or phrase = Bilal Doğan\n",
            "{0: 'B', 1: 'i', 2: 'l', 3: 'a', 4: 'l', 5: ' ', 6: 'D', 7: 'o', 8: 'ğ', 9: 'a', 10: 'n'}\n"
          ]
        }
      ]
    }
  ]
}