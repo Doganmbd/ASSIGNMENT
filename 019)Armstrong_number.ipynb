{
  "nbformat": 4,
  "nbformat_minor": 0,
  "metadata": {
    "colab": {
      "name": "019)Armstrong number.ipynb",
      "provenance": [],
      "authorship_tag": "ABX9TyNxWdDaEEyeiVemHXrPqvpA"
    },
    "kernelspec": {
      "name": "python3",
      "display_name": "Python 3"
    },
    "language_info": {
      "name": "python"
    }
  },
  "cells": [
    {
      "cell_type": "code",
      "execution_count": 5,
      "metadata": {
        "colab": {
          "base_uri": "https://localhost:8080/"
        },
        "id": "D_HrcLYzVm4A",
        "outputId": "6d6db103-64e1-410e-9eae-338ef2a0746d"
      },
      "outputs": [
        {
          "output_type": "stream",
          "name": "stdout",
          "text": [
            "Enter a number = 371\n",
            "371 is an armstrong number \n"
          ]
        }
      ],
      "source": [
        "# A number from the user will be set to be \"Armstrong. For example, \n",
        "# if a number has 4 digits and is equal to the 4th (3rd power for 3-digit numbers) of each of its surroundings,\n",
        "# this number is called the \"Armstrong\" number.\n",
        "\n",
        "number = input(\"Enter a number = \")\n",
        "\n",
        "totaly = sum([int(i) ** len(number) for i in number])\n",
        "\n",
        "if int(number) == totaly :\n",
        "  print(\"{} is an armstrong number \".format(number))\n",
        "\n",
        "else:\n",
        "  print(\"{} is not an armstrong number\".format(number))  "
      ]
    }
  ]
}