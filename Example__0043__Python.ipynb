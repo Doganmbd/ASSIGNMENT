{
  "nbformat": 4,
  "nbformat_minor": 0,
  "metadata": {
    "colab": {
      "name": "Example__0043__Python.ipynb",
      "provenance": [],
      "collapsed_sections": [],
      "authorship_tag": "ABX9TyPxOjWs/KqdcW0J/Vxf/aZX"
    },
    "kernelspec": {
      "name": "python3",
      "display_name": "Python 3"
    },
    "language_info": {
      "name": "python"
    }
  },
  "cells": [
    {
      "cell_type": "markdown",
      "source": [
        "Write a Python program to calculate the hypotenuse of a right angled triangle\n",
        "\n",
        "\n",
        "Dik açılı bir üçgenin hipotenüsünü hesaplayan bir Python programı yazın\n"
      ],
      "metadata": {
        "id": "GO48EqVuqs5V"
      }
    },
    {
      "cell_type": "code",
      "source": [
        "x, y = int(input(\"Enter one corner of the triangle = \")), int(input(\"Enter one corner of the triangle = \"))\n",
        "\n",
        "print(((x ** 2) + (y ** 2)) ** 0.5 )"
      ],
      "metadata": {
        "colab": {
          "base_uri": "https://localhost:8080/"
        },
        "id": "Duic66FIqxat",
        "outputId": "c6f4415b-caca-4e32-cc7d-3754a4e42ec3"
      },
      "execution_count": 2,
      "outputs": [
        {
          "output_type": "stream",
          "name": "stdout",
          "text": [
            "Enter one corner of the triangle = 5\n",
            "Enter one corner of the triangle = 12\n",
            "13.0\n"
          ]
        }
      ]
    }
  ]
}