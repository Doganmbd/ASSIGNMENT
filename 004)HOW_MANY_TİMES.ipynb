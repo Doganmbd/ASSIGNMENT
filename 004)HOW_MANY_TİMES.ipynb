{
  "nbformat": 4,
  "nbformat_minor": 0,
  "metadata": {
    "colab": {
      "name": "4)HOW_MANY_TİMES.ipynb",
      "provenance": [],
      "authorship_tag": "ABX9TyNa49yMEjM/Ve3x33saGh+H",
      "include_colab_link": true
    },
    "kernelspec": {
      "name": "python3",
      "display_name": "Python 3"
    },
    "language_info": {
      "name": "python"
    }
  },
  "cells": [
    {
      "cell_type": "markdown",
      "metadata": {
        "id": "view-in-github",
        "colab_type": "text"
      },
      "source": [
        "<a href=\"https://colab.research.google.com/github/DMB29/ASSIGNMENT1/blob/main/4)HOW_MANY_T%C4%B0MES.ipynb\" target=\"_parent\"><img src=\"https://colab.research.google.com/assets/colab-badge.svg\" alt=\"Open In Colab\"/></a>"
      ]
    },
    {
      "cell_type": "code",
      "metadata": {
        "colab": {
          "base_uri": "https://localhost:8080/"
        },
        "id": "nNEI4u1sOIWv",
        "outputId": "c6f6b9d1-3a7d-4faf-ed9c-36b29649737e"
      },
      "source": [
        "# write a program to find how many times substring \"Bilal \" appears in the given string\n",
        "# given = \"Bilal is good developer and Bilal is a program code writer.\"\n",
        "# output = Bilal appeared 2 times\n",
        "\n",
        "sentence = \"Bilal is good developer and Bilal is a program code writer.\"\n",
        "print(\"Bilal appeared {} times\".format(sentence.count(\"Bilal\")))\n",
        "\n"
      ],
      "execution_count": 1,
      "outputs": [
        {
          "output_type": "stream",
          "name": "stdout",
          "text": [
            "Bilal appeared 2 times\n"
          ]
        }
      ]
    }
  ]
}
