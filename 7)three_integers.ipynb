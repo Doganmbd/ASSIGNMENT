{
  "nbformat": 4,
  "nbformat_minor": 0,
  "metadata": {
    "colab": {
      "name": "7)three_integers.ipynb",
      "provenance": [],
      "authorship_tag": "ABX9TyPHnc9aNZbHreO/kFYZlrpc"
    },
    "kernelspec": {
      "name": "python3",
      "display_name": "Python 3"
    },
    "language_info": {
      "name": "python"
    }
  },
  "cells": [
    {
      "cell_type": "code",
      "execution_count": null,
      "metadata": {
        "colab": {
          "base_uri": "https://localhost:8080/"
        },
        "id": "RTqVEEqmUmgR",
        "outputId": "0c312ef5-001b-4c12-b00f-712243a91aa1"
      },
      "outputs": [
        {
          "output_type": "stream",
          "name": "stdout",
          "text": [
            "Enter a first number = 3\n",
            "Enter a second number = 2\n",
            "Enter a third number = 3\n",
            "0\n"
          ]
        }
      ],
      "source": [
        "# Write a Python program to sum of three given integers. However, if two values are equal sum will be zero.\n",
        "\n",
        "num_1 = int(input(\"Enter a first number = \"))\n",
        "num_2 = int(input(\"Enter a second number = \"))\n",
        "num_3 = int(input(\"Enter a third number = \"))\n",
        "\n",
        "if num_1 == num_2 or num_1 == num_3 or num_2 == num_3 :\n",
        "  print(0)\n",
        "\n",
        "else :\n",
        "  print(num_1 + num_2 + num_3)  \n"
      ]
    },
    {
      "cell_type": "code",
      "source": [
        "# If we want the user to enter all 3 numbers side by side at the same time\n",
        "\n",
        "num =list(map(int, input(\"\")))\n",
        "\n",
        "if num[0] == num[1] or num[1] == num[2] or num[0] == num[2] :\n",
        "  print(0)\n",
        "else:\n",
        "  print(sum(num))"
      ],
      "metadata": {
        "colab": {
          "base_uri": "https://localhost:8080/"
        },
        "id": "1VLtlMWxwE_K",
        "outputId": "6e9b616e-1cf8-4ca0-96ee-a1724217e4de"
      },
      "execution_count": 1,
      "outputs": [
        {
          "output_type": "stream",
          "name": "stdout",
          "text": [
            "323\n",
            "0\n"
          ]
        }
      ]
    }
  ]
}