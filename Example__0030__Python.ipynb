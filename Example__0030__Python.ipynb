{
  "nbformat": 4,
  "nbformat_minor": 0,
  "metadata": {
    "colab": {
      "name": "Example__0030__Python.ipynb",
      "provenance": [],
      "collapsed_sections": [],
      "authorship_tag": "ABX9TyP9/8mU0nWSKggZDbuu3Ubl"
    },
    "kernelspec": {
      "name": "python3",
      "display_name": "Python 3"
    },
    "language_info": {
      "name": "python"
    }
  },
  "cells": [
    {
      "cell_type": "markdown",
      "source": [
        "Write a program that takes your full name as input and displays the abbreviations of the first and middle names except the last name which is displayed as it is. For example, if your name is Mustafa Bilal Doğan, then the output should be M.B.Doğan.\n",
        "\n",
        "\n",
        "\n",
        "\n",
        "Tam adınızı girdi olarak alan ve görüntülenen soyadı dışındaki ad ve ikinci adların kısaltmalarını görüntüleyen bir program yazın. Örneğin adınız Mustafa Bilal Doğan ise çıktı M.B.Doğan olmalıdı"
      ],
      "metadata": {
        "id": "azCRAU_Bend0"
      }
    },
    {
      "cell_type": "code",
      "source": [
        "name = list(map(str.title,input(\"Enter a name = \").split()))\n",
        "print(\"{}.{}.{}\".format(name[0][0],name[1][0],name[2]))"
      ],
      "metadata": {
        "colab": {
          "base_uri": "https://localhost:8080/"
        },
        "id": "jjHdOtKte9Z0",
        "outputId": "9ae3caba-9ba1-448a-eb96-63edbfbaaa61"
      },
      "execution_count": 4,
      "outputs": [
        {
          "output_type": "stream",
          "name": "stdout",
          "text": [
            "Enter a name = mustafa bilal doğan\n",
            "M.B.Doğan\n"
          ]
        }
      ]
    }
  ]
}