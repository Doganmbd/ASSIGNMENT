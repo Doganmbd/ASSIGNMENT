{
  "nbformat": 4,
  "nbformat_minor": 0,
  "metadata": {
    "colab": {
      "name": "6) common divisors of numbers.py",
      "provenance": [],
      "authorship_tag": "ABX9TyOkiEruJ/VhUeDMMEfYI6Qw"
    },
    "kernelspec": {
      "name": "python3",
      "display_name": "Python 3"
    },
    "language_info": {
      "name": "python"
    }
  },
  "cells": [
    {
      "cell_type": "code",
      "execution_count": 22,
      "metadata": {
        "colab": {
          "base_uri": "https://localhost:8080/"
        },
        "id": "CF8ybskrEhJw",
        "outputId": "df394ae1-6a1c-4fdb-dcef-fb3b7ae0458a"
      },
      "outputs": [
        {
          "output_type": "stream",
          "name": "stdout",
          "text": [
            "Enter a first number = 105\n",
            "Enter a second number = 35\n",
            "[1, 5, 7, 35]\n"
          ]
        }
      ],
      "source": [
        "# Write a program that prints the common divisors of two numbers received from the user.\n",
        "\n",
        "number_1 =int(input(\"Enter a first number = \"))\n",
        "number_2 =int(input(\"Enter a second number = \"))\n",
        "\n",
        "my_list_1 = []\n",
        "my_list_2 = []\n",
        "conclusion = []\n",
        "\n",
        "for i in range(1,number_1 + 1):\n",
        "  if number_1 % i == 0 :\n",
        "    my_list_1.append(i)\n",
        "\n",
        "for j in range(1,number_2 + 1):\n",
        "  if number_2 % j == 0 :\n",
        "    my_list_2.append(j)\n",
        "\n",
        "for common in my_list_1 :\n",
        "  if common in my_list_2 :\n",
        "    conclusion.append(common)\n",
        "\n",
        "print(conclusion)  \n",
        "\n",
        "   "
      ]
    },
    {
      "cell_type": "code",
      "source": [
        "# Write a program that prints the common divisors of two numbers received from the user.\n",
        "\n",
        "number_1 =int(input(\"Enter a first number = \"))\n",
        "number_2 =int(input(\"Enter a second number = \"))\n",
        "\n",
        "my_list_1 = []\n",
        "my_list_2 = []\n",
        "conclusion = []\n",
        "\n",
        "for i in range(1,number_1 + 1):\n",
        "  if number_1 % i == 0 :\n",
        "    my_list_1 += [i]\n",
        "\n",
        "for j in range(1,number_2 + 1):\n",
        "  if number_2 % j == 0 :\n",
        "    my_list_2 += [j]\n",
        "\n",
        "for common in my_list_1 :\n",
        "  if common in my_list_2 :\n",
        "    conclusion += [common]\n",
        "\n",
        "print(conclusion)  "
      ],
      "metadata": {
        "colab": {
          "base_uri": "https://localhost:8080/"
        },
        "id": "0DpGPsXVS4Zx",
        "outputId": "6a0c502a-e5b2-400e-e43b-10347dccd286"
      },
      "execution_count": 23,
      "outputs": [
        {
          "output_type": "stream",
          "name": "stdout",
          "text": [
            "Enter a first number = 105\n",
            "Enter a second number = 35\n",
            "[1, 5, 7, 35]\n"
          ]
        }
      ]
    }
  ]
}