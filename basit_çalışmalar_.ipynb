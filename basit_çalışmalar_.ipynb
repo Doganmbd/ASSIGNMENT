{
  "nbformat": 4,
  "nbformat_minor": 0,
  "metadata": {
    "colab": {
      "name": "basit çalışmalar .ipynb",
      "provenance": [],
      "collapsed_sections": [],
      "authorship_tag": "ABX9TyM3OCdcUEblNj9DPWgtl8hA",
      "include_colab_link": true
    },
    "kernelspec": {
      "name": "python3",
      "display_name": "Python 3"
    },
    "language_info": {
      "name": "python"
    }
  },
  "cells": [
    {
      "cell_type": "markdown",
      "metadata": {
        "id": "view-in-github",
        "colab_type": "text"
      },
      "source": [
        "<a href=\"https://colab.research.google.com/github/DMB29/20.11.2021/blob/main/basit_%C3%A7al%C4%B1%C5%9Fmalar_.ipynb\" target=\"_parent\"><img src=\"https://colab.research.google.com/assets/colab-badge.svg\" alt=\"Open In Colab\"/></a>"
      ]
    },
    {
      "cell_type": "markdown",
      "metadata": {
        "id": "sMXIKljT-rGh"
      },
      "source": [
        "# ***assignment-1 (Negative Meaning)***"
      ]
    },
    {
      "cell_type": "code",
      "metadata": {
        "colab": {
          "base_uri": "https://localhost:8080/"
        },
        "id": "iExDPUXB9J_p",
        "outputId": "df812aff-92cb-4cdc-9d29-adc996283967"
      },
      "source": [
        "# Define a function to take a word and return negative meaning.\n",
        "# Given a word, return a new word where \"not \" has been added to the front.\n",
        "# However, if the word already begins with \"not\", return the string unchanged.\n",
        "def not_string(word):\n",
        "    if word.startswith(\"not\") :\n",
        "      return word\n",
        "    \n",
        "    else :\n",
        "      return \"not\" + \" \" + word\n",
        "\n",
        "print(not_string('sugar'))   \n",
        "print(not_string('x'))\n",
        "print(not_string('not bad'))"
      ],
      "execution_count": 6,
      "outputs": [
        {
          "output_type": "stream",
          "name": "stdout",
          "text": [
            "not sugar\n",
            "not x\n",
            "not bad\n"
          ]
        }
      ]
    },
    {
      "cell_type": "markdown",
      "metadata": {
        "id": "KyuuPuzgV1hn"
      },
      "source": [
        "\n",
        "# ***assignment-2 (Prime numbers)***"
      ]
    },
    {
      "cell_type": "code",
      "metadata": {
        "colab": {
          "base_uri": "https://localhost:8080/"
        },
        "id": "OLsxpE0XSPw7",
        "outputId": "8e5bc8ef-13b5-449a-a5c7-999973c8fe0a"
      },
      "source": [
        "# Task : Write a program that takes a number from the user and prints the result to check if it is a prime number.\n",
        "# The examples of the desired output are as follows :\n",
        "# input →  19 ⇉ output : [2, 3, 5, 7, 11, 13, 17, 19] are prime numbers.\n",
        "\n",
        "\n",
        "limit =int(input(\"Enter a limited number = \"))\n",
        "listem=[] \n",
        "  \n",
        "for sayi in range(1,limit + 1):  \n",
        "   if sayi > 1:  \n",
        "       for i in range(2,sayi):  \n",
        "           if (sayi % i) == 0:\n",
        "             \n",
        "             break  \n",
        "       else:  \n",
        "           listem.append(sayi)   \n",
        "             \n",
        "print(listem,\"are prime numbers\")"
      ],
      "execution_count": 10,
      "outputs": [
        {
          "output_type": "stream",
          "name": "stdout",
          "text": [
            "Enter a limited number = 19\n",
            "[2, 3, 5, 7, 11, 13, 17, 19] are prime numbers\n"
          ]
        }
      ]
    },
    {
      "cell_type": "code",
      "metadata": {
        "id": "83ZCeiS3Wu7g"
      },
      "source": [
        ""
      ],
      "execution_count": null,
      "outputs": []
    }
  ]
}