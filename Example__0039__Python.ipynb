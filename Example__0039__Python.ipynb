{
  "nbformat": 4,
  "nbformat_minor": 0,
  "metadata": {
    "colab": {
      "name": "Example__0039__Python.ipynb",
      "provenance": [],
      "collapsed_sections": [],
      "authorship_tag": "ABX9TyNYPEGbSorMK9V7g5rYdRmi"
    },
    "kernelspec": {
      "name": "python3",
      "display_name": "Python 3"
    },
    "language_info": {
      "name": "python"
    }
  },
  "cells": [
    {
      "cell_type": "markdown",
      "source": [
        "A number is said to be Harshad if it's exactly divisible by the sum of its digits. Create a code that determines whether a number is a Harshad or not.\n",
        "\n",
        "Rakamlarının toplamına tam olarak bölünebilen bir sayıya Harshad denir. Bir sayının Harshad olup olmadığını belirleyen bir kod oluşturun.\n",
        "\n",
        "INPUT:75 ➞ OUTPUT:False\n",
        "\n",
        "7 + 5 = 12\n",
        "\n",
        "75 is not exactly divisible by 12\n",
        "\n",
        "INPUT:171 ➞ OUTPUT:True\n",
        "\n",
        "1 + 7 + 1 = 9\n",
        "\n",
        "9 exactly divides 171"
      ],
      "metadata": {
        "id": "lXS1chcW_yA3"
      }
    },
    {
      "cell_type": "code",
      "source": [
        "number = input(\"Enter a number = \")\n",
        "print(int(number) % sum([int(i) for i in number]) == 0)"
      ],
      "metadata": {
        "colab": {
          "base_uri": "https://localhost:8080/"
        },
        "id": "tpImKHLJEuYo",
        "outputId": "82ddf7c7-57d7-42d8-ca50-8cca329272bf"
      },
      "execution_count": 5,
      "outputs": [
        {
          "output_type": "stream",
          "name": "stdout",
          "text": [
            "Enter a number = 171\n",
            "True\n"
          ]
        }
      ]
    }
  ]
}