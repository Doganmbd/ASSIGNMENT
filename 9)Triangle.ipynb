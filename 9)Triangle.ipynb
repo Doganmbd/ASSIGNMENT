{
  "nbformat": 4,
  "nbformat_minor": 0,
  "metadata": {
    "colab": {
      "name": "9)Triangle.ipynb",
      "provenance": [],
      "authorship_tag": "ABX9TyNxt8zdQJ43QH/IsuAAit1a"
    },
    "kernelspec": {
      "name": "python3",
      "display_name": "Python 3"
    },
    "language_info": {
      "name": "python"
    }
  },
  "cells": [
    {
      "cell_type": "code",
      "execution_count": 4,
      "metadata": {
        "colab": {
          "base_uri": "https://localhost:8080/"
        },
        "id": "2_SSidmLHatV",
        "outputId": "6697ee85-0e81-4c75-f554-a2bfaffe9976"
      },
      "outputs": [
        {
          "output_type": "stream",
          "name": "stdout",
          "text": [
            "Enter one side of the triangle = 10\n",
            "Enter the second side of the triangle = 2\n",
            "Enter the last side of the triangle = 5\n",
            "The sides you enter do not form triangles.\n"
          ]
        }
      ],
      "source": [
        "# If the entered side lengths do not form a triangle,write the code that determines \n",
        "# the type of triangle according to the three side information entered by the user. \n",
        "# (In absolute value, the difference of two sides is taken,if the difference is greater than the other side, \n",
        "# he entered values ​​do not form a triangle.This is done for all sides.\n",
        "\n",
        "\n",
        "side_1 = int(input(\"Enter one side of the triangle = \"))\n",
        "side_2 = int(input(\"Enter the second side of the triangle = \"))\n",
        "side_3 = int(input(\"Enter the last side of the triangle = \"))\n",
        "\n",
        "if abs(side_1 - side_2) < side_3 and abs(side_3 - side_2) < side_1 and abs(side_3 - side_1) < side_2 :\n",
        "  print(\"It is a triangle.\")\n",
        "\n",
        "else:\n",
        "  print(\"The sides you enter do not form triangles.\")"
      ]
    }
  ]
}