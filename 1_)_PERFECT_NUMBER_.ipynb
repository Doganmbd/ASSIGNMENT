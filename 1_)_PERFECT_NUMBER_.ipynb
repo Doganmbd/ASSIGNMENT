{
  "nbformat": 4,
  "nbformat_minor": 0,
  "metadata": {
    "colab": {
      "name": "1 ) PERFECT NUMBER .ipynb",
      "provenance": [],
      "authorship_tag": "ABX9TyNurwBzUFvsvbxm/sgOlbI3",
      "include_colab_link": true
    },
    "kernelspec": {
      "name": "python3",
      "display_name": "Python 3"
    },
    "language_info": {
      "name": "python"
    }
  },
  "cells": [
    {
      "cell_type": "markdown",
      "metadata": {
        "id": "view-in-github",
        "colab_type": "text"
      },
      "source": [
        "<a href=\"https://colab.research.google.com/github/DMB29/20.11.2021/blob/main/1_)_PERFECT_NUMBER_.ipynb\" target=\"_parent\"><img src=\"https://colab.research.google.com/assets/colab-badge.svg\" alt=\"Open In Colab\"/></a>"
      ]
    },
    {
      "cell_type": "code",
      "metadata": {
        "colab": {
          "base_uri": "https://localhost:8080/"
        },
        "id": "nO_3MT5Qq5SK",
        "outputId": "7aed948b-6001-4115-a433-812516ecd7b3"
      },
      "source": [
        "# Try to find out if a number you get from the user is perfect.\n",
        "# A number is called a \"perfect number\" if the sum of its divisors is equal to itself.\n",
        "# For example, 6 is a perfect number. (1 + 2 + 3 = 6)\n",
        "\n",
        "number = int(input(\"Enter a number = \"))\n",
        "counter = 0\n",
        "my_list = []\n",
        "\n",
        "for i in range(1,number):\n",
        "  if number % i == 0 :\n",
        "    counter += i\n",
        "    my_list.append(i)\n",
        "print(\"sum of my_list >>\",my_list,\"=\",counter )\n",
        "\n",
        "if counter == number :\n",
        "  print(number ,\"=\", counter)\n",
        "  print(\"{} is a perfect number \". format(number))\n",
        "  \n",
        "else :\n",
        "  print(counter ,\"!=\", number)\n",
        "  print(\"{} is not a perfect number\".format(number))"
      ],
      "execution_count": 42,
      "outputs": [
        {
          "output_type": "stream",
          "name": "stdout",
          "text": [
            "Enter a number = 15\n",
            "sum of my_list >> [1, 3, 5] = 9\n",
            "9 != 15\n",
            "15 is not a perfect number\n"
          ]
        }
      ]
    },
    {
      "cell_type": "code",
      "metadata": {
        "id": "FhtygM12z3tk"
      },
      "source": [
        ""
      ],
      "execution_count": null,
      "outputs": []
    }
  ]
}