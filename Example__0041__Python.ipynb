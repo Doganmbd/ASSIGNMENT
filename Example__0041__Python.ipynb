{
  "nbformat": 4,
  "nbformat_minor": 0,
  "metadata": {
    "colab": {
      "name": "Example__0041__Python.ipynb",
      "provenance": [],
      "collapsed_sections": [],
      "authorship_tag": "ABX9TyMVZezmoyl87JxVuqHsdaOb"
    },
    "kernelspec": {
      "name": "python3",
      "display_name": "Python 3"
    },
    "language_info": {
      "name": "python"
    }
  },
  "cells": [
    {
      "cell_type": "markdown",
      "source": [
        "\"Loves me, loves me not\" is a traditional game in which a person plucks off all the petals of a flower one by one, saying the phrase \"Loves me\" and \"Loves me not\" when determining whether the one that they love, loves them back. Given a number of petals, return a string which repeats the phrases \"Loves me\" and \"Loves me not\" for every alternating petal, and return the last phrase in all caps. Remember to put a comma and space between phrases.\n",
        "\n",
        "\n",
        "\"Beni seviyor, beni sevmiyor\", bir kişinin bir çiçeğin tüm yapraklarını tek tek koparıp, sevdiği kişiyi belirlerken \"Beni seviyor\" ve \"Beni sevmiyor\" sözlerini söyleyerek, geleneksel bir oyundur. onları geri seviyor. Bir dizi yaprak verildiğinde, değişen her yaprak için \"Beni seviyor\" ve \"Beni sevmiyor\" ifadelerini tekrarlayan bir dize döndürün ve son ifadeyi tamamı büyük harflerle döndürün. İfadeler arasına virgül ve boşluk koymayı unutmayın.\n",
        "\n",
        "\n",
        "INPUT : 3 ➞ \"Loves me, Loves me not, LOVES ME\"\n",
        "\n",
        "INPUT : 6 ➞ \"Loves me, Loves me not, Loves me, Loves me not, Loves me, LOVES ME NOT\"\n",
        "\n",
        "INPUT : 1 ➞ \"LOVES ME\""
      ],
      "metadata": {
        "id": "JefwpfTTN3uQ"
      }
    },
    {
      "cell_type": "code",
      "source": [
        "number = int(input(\"Enter a number = \"))\n",
        "camomile =[\"Loves me\", \"Loves me not\"]\n",
        "new_camomile = []\n",
        "\n",
        "if number == 1 :\n",
        "  print(camomile[0].upper())\n",
        "else :\n",
        "  for i in range(1,number + 1) :\n",
        "    if i % 2 == 1 :\n",
        "      new_camomile += [camomile[0]]\n",
        "    elif i % 2 == 0 :\n",
        "      new_camomile += [camomile[1]]\n",
        "new_camomile = new_camomile[:-1] + [new_camomile[-1].upper()]\n",
        "print(*new_camomile,sep = \" , \")"
      ],
      "metadata": {
        "colab": {
          "base_uri": "https://localhost:8080/"
        },
        "id": "2lywUrL_ODkR",
        "outputId": "588d8c6b-1aa5-4e70-b895-0a8d05a18ca4"
      },
      "execution_count": 29,
      "outputs": [
        {
          "output_type": "stream",
          "name": "stdout",
          "text": [
            "Enter a number = 3\n",
            "Loves me , Loves me not , LOVES ME\n"
          ]
        }
      ]
    }
  ]
}