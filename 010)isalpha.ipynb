{
  "nbformat": 4,
  "nbformat_minor": 0,
  "metadata": {
    "colab": {
      "name": "10)isalpha.ipynb",
      "provenance": [],
      "authorship_tag": "ABX9TyN36SMM5rwMWaBhyrTDruMN"
    },
    "kernelspec": {
      "name": "python3",
      "display_name": "Python 3"
    },
    "language_info": {
      "name": "python"
    }
  },
  "cells": [
    {
      "cell_type": "code",
      "source": [
        "# Let's write a code that cleans the wrong characters (numbers or special characters) \n",
        "# entered by the user and gives an output like \"Mustafa Bilal Doğan\"\n",
        "\n",
        "sentence = input(\"Enter a semtence = \")\n",
        "output = \"\"\n",
        "\n",
        "for i in sentence :\n",
        "  if i.isalpha() or i ==\" \" :\n",
        "    output += i\n",
        "\n",
        "output2 =\" \".join([j.capitalize() for j in output.split()])\n",
        "print(output2)"
      ],
      "metadata": {
        "colab": {
          "base_uri": "https://localhost:8080/"
        },
        "id": "FrFPcKbY8IUD",
        "outputId": "bb7fe88b-5fed-4a90-a25e-543ebf9fa56f"
      },
      "execution_count": 41,
      "outputs": [
        {
          "output_type": "stream",
          "name": "stdout",
          "text": [
            "Enter a semtence = */&mustafa%+      **bilal//    do^+%^ğan\n",
            "Mustafa Bilal Doğan\n"
          ]
        }
      ]
    }
  ]
}
