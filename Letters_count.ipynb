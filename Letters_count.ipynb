{
  "nbformat": 4,
  "nbformat_minor": 0,
  "metadata": {
    "colab": {
      "name": "Letters count.ipynb",
      "provenance": [],
      "authorship_tag": "ABX9TyOV2BzY6mE5ZjVhAHtYmktq"
    },
    "kernelspec": {
      "name": "python3",
      "display_name": "Python 3"
    },
    "language_info": {
      "name": "python"
    }
  },
  "cells": [
    {
      "cell_type": "code",
      "source": [
        "string = \"hippo runs to us!\"\n",
        "word_dict = {}\n",
        "for i in string :\n",
        "\n",
        "  if i in word_dict :\n",
        "    word_dict[i] += 1\n",
        "\n",
        "  else :\n",
        "    word_dict[i] = 1\n",
        "\n",
        "print(word_dict)\n",
        "\n",
        "\n"
      ],
      "metadata": {
        "colab": {
          "base_uri": "https://localhost:8080/"
        },
        "id": "tIyvbRUyagD6",
        "outputId": "d9f6e10f-4d20-487f-8430-16d8c27fc986"
      },
      "execution_count": 4,
      "outputs": [
        {
          "output_type": "stream",
          "name": "stdout",
          "text": [
            "{'h': 1, 'i': 1, 'p': 2, 'o': 2, ' ': 3, 'r': 1, 'u': 2, 'n': 1, 's': 2, 't': 1, '!': 1}\n"
          ]
        }
      ]
    },
    {
      "cell_type": "code",
      "source": [
        "from collections import Counter\n",
        "print(Counter('hippo runs to us!'))"
      ],
      "metadata": {
        "colab": {
          "base_uri": "https://localhost:8080/"
        },
        "id": "oOHoEP0pdhdd",
        "outputId": "2ecc8aa1-38b0-47af-ca55-bc83d1771757"
      },
      "execution_count": 5,
      "outputs": [
        {
          "output_type": "stream",
          "name": "stdout",
          "text": [
            "Counter({' ': 3, 'p': 2, 'o': 2, 'u': 2, 's': 2, 'h': 1, 'i': 1, 'r': 1, 'n': 1, 't': 1, '!': 1})\n"
          ]
        }
      ]
    }
  ]
}