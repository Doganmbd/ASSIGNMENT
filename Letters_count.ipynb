{
  "nbformat": 4,
  "nbformat_minor": 0,
  "metadata": {
    "colab": {
      "name": "Letters count.ipynb",
      "provenance": [],
      "authorship_tag": "ABX9TyPaUi65edk8J4fa0JQx2QqE",
      "include_colab_link": true
    },
    "kernelspec": {
      "name": "python3",
      "display_name": "Python 3"
    },
    "language_info": {
      "name": "python"
    }
  },
  "cells": [
    {
      "cell_type": "markdown",
      "metadata": {
        "id": "view-in-github",
        "colab_type": "text"
      },
      "source": [
        "<a href=\"https://colab.research.google.com/github/Dogan-mb/ASSIGNMENT/blob/main/Letters_count.ipynb\" target=\"_parent\"><img src=\"https://colab.research.google.com/assets/colab-badge.svg\" alt=\"Open In Colab\"/></a>"
      ]
    },
    {
      "cell_type": "code",
      "execution_count": 2,
      "metadata": {
        "colab": {
          "base_uri": "https://localhost:8080/"
        },
        "id": "2m2pXGiH03Xd",
        "outputId": "d4fd4d82-1274-4740-834f-1b3771d8e1e5"
      },
      "outputs": [
        {
          "output_type": "stream",
          "name": "stdout",
          "text": [
            "Counter({' ': 3, 'p': 2, 'o': 2, 'u': 2, 's': 2, 'h': 1, 'i': 1, 'r': 1, 'n': 1, 't': 1, '!': 1})\n"
          ]
        }
      ],
      "source": [
        "from collections import Counter\n",
        "print(Counter('hippo runs to us!'))"
      ]
    }
  ]
}