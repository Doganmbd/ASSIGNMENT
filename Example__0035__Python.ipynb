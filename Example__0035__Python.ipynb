{
  "nbformat": 4,
  "nbformat_minor": 0,
  "metadata": {
    "colab": {
      "name": "Example__0035__Python.ipynb",
      "provenance": [],
      "collapsed_sections": [],
      "authorship_tag": "ABX9TyMq2QQpeciFhZXnCFrBDKB7"
    },
    "kernelspec": {
      "name": "python3",
      "display_name": "Python 3"
    },
    "language_info": {
      "name": "python"
    }
  },
  "cells": [
    {
      "cell_type": "markdown",
      "source": [
        "Write a program to check if a given string is a Palindrome. A palindrome reads same from front and back.\n",
        "\n",
        "\n",
        "Verilen bir dizgenin Palindrom olup olmadığını kontrol eden bir program yazın. Bir palindrom önden ve arkadan aynı şekilde okunur. \n",
        "\n",
        "INPUT: aba ,ccaacc, mom \n",
        "\n",
        "OUTPUT: True"
      ],
      "metadata": {
        "id": "hZMrT-oMDdjV"
      }
    },
    {
      "cell_type": "code",
      "source": [
        "text = input(\"Enter a text = \")\n",
        "\n",
        "print(text[::] == text[::-1])\n"
      ],
      "metadata": {
        "colab": {
          "base_uri": "https://localhost:8080/"
        },
        "id": "ZkQU3PSHD1RS",
        "outputId": "c2130467-d644-4ae3-aebb-06d64cccea1a"
      },
      "execution_count": 6,
      "outputs": [
        {
          "output_type": "stream",
          "name": "stdout",
          "text": [
            "Enter a text = mom\n",
            "True\n"
          ]
        }
      ]
    }
  ]
}