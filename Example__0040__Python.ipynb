{
  "nbformat": 4,
  "nbformat_minor": 0,
  "metadata": {
    "colab": {
      "name": "Example__0040__Python.ipynb",
      "provenance": [],
      "collapsed_sections": [],
      "authorship_tag": "ABX9TyMQaF7Dw3bJzCu/80h8iakn"
    },
    "kernelspec": {
      "name": "python3",
      "display_name": "Python 3"
    },
    "language_info": {
      "name": "python"
    }
  },
  "cells": [
    {
      "cell_type": "markdown",
      "source": [
        "Write a Python program to create a merged list of tuples from the two lists given.\n",
        "\n",
        "\n",
        "\n",
        "Verilen iki listeden birleştirilmiş bir demet listesi oluşturmak için bir Python programı yazın.\n",
        "\n",
        "\n",
        "For Example: \n",
        "\n",
        "İnput:\n",
        "\n",
        "list_1=[195, 488, 142, 626, 180]\n",
        "\n",
        "list_2=[\"New York\", \"Alabama\", \"Hawaii\", \"Vermont\", \"West Virginia\"]\n",
        "\n",
        "Output:\n",
        "\n",
        "list_3=[(195, 'New York'), (488, 'Alabama'), (142, 'Hawaii'), (626, 'Vermont'), (180, 'West Virginia')]"
      ],
      "metadata": {
        "id": "1azqrt5CMF4s"
      }
    },
    {
      "cell_type": "code",
      "source": [
        "list_1=[195, 488, 142, 626, 180]\n",
        "list_2=[\"New York\", \"Alabama\", \"Hawaii\", \"Vermont\", \"West Virginia\"]\n",
        "\n",
        "list_3=list(zip(list_1,list_2))\n",
        "print(list_3)"
      ],
      "metadata": {
        "colab": {
          "base_uri": "https://localhost:8080/"
        },
        "id": "NJhad-eEMPfz",
        "outputId": "d7192261-e937-469a-b2fa-6ae274777923"
      },
      "execution_count": 17,
      "outputs": [
        {
          "output_type": "stream",
          "name": "stdout",
          "text": [
            "[(195, 'New York'), (488, 'Alabama'), (142, 'Hawaii'), (626, 'Vermont'), (180, 'West Virginia')]\n"
          ]
        }
      ]
    }
  ]
}