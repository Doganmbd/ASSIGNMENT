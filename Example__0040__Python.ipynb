{
  "nbformat": 4,
  "nbformat_minor": 0,
  "metadata": {
    "colab": {
      "name": "Example__0040__Python.ipynb",
      "provenance": [],
      "collapsed_sections": [],
      "authorship_tag": "ABX9TyM8LGQF8u/hGwZYZUuwiz8O"
    },
    "kernelspec": {
      "name": "python3",
      "display_name": "Python 3"
    },
    "language_info": {
      "name": "python"
    }
  },
  "cells": [
    {
      "cell_type": "markdown",
      "source": [
        "Write a Python program to create a merged list of tuples from the two lists given.\n",
        "\n",
        "Verilen iki listeden birleştirilmiş bir demet listesi oluşturmak için bir Python programı yazın.\n",
        "\n",
        "For Example:\n",
        "\n",
        "İnput:\n",
        "\n",
        "list_1=[195, 488, 142, 626, 180]\n",
        "\n",
        "list_2=[\"New York\", \"Alabama\", \"Hawaii\", \"Vermont\", \"West Virginia\"]\n",
        "\n",
        "Output:\n",
        "\n",
        "list_3=[(195, 'New York'), (488, 'Alabama'), (142, 'Hawaii'), (626, 'Vermont'), (180, 'West Virginia')]"
      ],
      "metadata": {
        "id": "l-OYu2g8M4m3"
      }
    },
    {
      "cell_type": "code",
      "source": [
        "list_1=[195, 488, 142, 626, 180]\n",
        "list_2=[\"New York\", \"Alabama\", \"Hawaii\", \"Vermont\", \"West Virginia\"]\n",
        "\n",
        "list_3=list(zip(list_1,list_2))\n",
        "print(list_3)"
      ],
      "metadata": {
        "colab": {
          "base_uri": "https://localhost:8080/"
        },
        "id": "tUvmEkt0NVd1",
        "outputId": "f84b5877-1302-474e-a4f9-d647f2593a17"
      },
      "execution_count": 18,
      "outputs": [
        {
          "output_type": "stream",
          "name": "stdout",
          "text": [
            "[(195, 'New York'), (488, 'Alabama'), (142, 'Hawaii'), (626, 'Vermont'), (180, 'West Virginia')]\n"
          ]
        }
      ]
    },
    {
      "cell_type": "code",
      "source": [
        "list_1=[195, 488, 142, 626, 180]\n",
        "list_2=[\"New York\", \"Alabama\", \"Hawaii\", \"Vermont\", \"West Virginia\"]\n",
        "merge_list = []\n",
        "for i in range(0, len(list_1)) :\n",
        "  merge_list += [(list_1[i], list_2[i])]\n",
        "\n",
        "print(merge_list)"
      ],
      "metadata": {
        "colab": {
          "base_uri": "https://localhost:8080/"
        },
        "id": "XR_hjjHwNYqc",
        "outputId": "b9ccb62c-4403-4b11-e625-ffe91a371811"
      },
      "execution_count": 21,
      "outputs": [
        {
          "output_type": "stream",
          "name": "stdout",
          "text": [
            "[(195, 'New York'), (488, 'Alabama'), (142, 'Hawaii'), (626, 'Vermont'), (180, 'West Virginia')]\n"
          ]
        }
      ]
    }
  ]
}