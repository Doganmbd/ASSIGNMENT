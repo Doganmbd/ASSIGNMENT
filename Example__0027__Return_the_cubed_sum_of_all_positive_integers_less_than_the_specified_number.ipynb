{
  "nbformat": 4,
  "nbformat_minor": 0,
  "metadata": {
    "colab": {
      "name": "Example__0027__Return the cubed sum of all positive integers less than the specified number.ipynb",
      "provenance": [],
      "collapsed_sections": [],
      "authorship_tag": "ABX9TyPw0yhOSEIB2F3NV9Zgfs31"
    },
    "kernelspec": {
      "name": "python3",
      "display_name": "Python 3"
    },
    "language_info": {
      "name": "python"
    }
  },
  "cells": [
    {
      "cell_type": "markdown",
      "source": [
        "\n",
        "Write a Python function that takes a positive integer and returns the sum of the cube of all the positive integers smaller than the specified number.\n",
        "\n",
        "Pozitif bir tam sayı alan ve belirtilen sayıdan küçük tüm pozitif tam sayıların küpünün toplamını döndüren bir Python işlevi yazın.\n",
        "\n",
        "For Example :\n",
        "\n",
        "input = 4\n",
        "\n",
        "output = 36  \n",
        "\n"
      ],
      "metadata": {
        "id": "XvXR_oTHZxqb"
      }
    },
    {
      "cell_type": "code",
      "execution_count": 2,
      "metadata": {
        "colab": {
          "base_uri": "https://localhost:8080/"
        },
        "id": "wUqEM0eOZtVw",
        "outputId": "f4ee693f-8355-4377-c7fe-22b02682a008"
      },
      "outputs": [
        {
          "output_type": "stream",
          "name": "stdout",
          "text": [
            "Enter a number = 4\n",
            "36\n"
          ]
        }
      ],
      "source": [
        "number = int(input(\"Enter a number = \"))\n",
        "count=0\n",
        "\n",
        "for i in range(number):\n",
        "  count += i ** 3\n",
        "\n",
        "print(count)  "
      ]
    },
    {
      "cell_type": "code",
      "source": [
        "# With the List Comprehension method\n",
        "\n",
        "number = int(input(\"Enter a number = \"))\n",
        "\n",
        "print(sum([ i ** 3 for i in range(number)]))"
      ],
      "metadata": {
        "colab": {
          "base_uri": "https://localhost:8080/"
        },
        "id": "zbbgETpeaiSK",
        "outputId": "98948c44-9db6-4893-b043-580e5d80e41b"
      },
      "execution_count": 3,
      "outputs": [
        {
          "output_type": "stream",
          "name": "stdout",
          "text": [
            "Enter a number = 4\n",
            "36\n"
          ]
        }
      ]
    }
  ]
}