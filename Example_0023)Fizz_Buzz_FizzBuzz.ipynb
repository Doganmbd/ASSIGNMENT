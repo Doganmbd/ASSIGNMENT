{
  "nbformat": 4,
  "nbformat_minor": 0,
  "metadata": {
    "colab": {
      "name": "Example_0023)Fizz-Buzz-FizzBuzz.ipynb",
      "provenance": [],
      "authorship_tag": "ABX9TyMpvX9FB09xwMR51oklPTXD"
    },
    "kernelspec": {
      "name": "python3",
      "display_name": "Python 3"
    },
    "language_info": {
      "name": "python"
    }
  },
  "cells": [
    {
      "cell_type": "code",
      "execution_count": 12,
      "metadata": {
        "colab": {
          "base_uri": "https://localhost:8080/"
        },
        "id": "Vt-Cyi0T3Ppt",
        "outputId": "d72c3a87-60c5-44cf-bd80-b065d20becf0"
      },
      "outputs": [
        {
          "output_type": "stream",
          "name": "stdout",
          "text": [
            "1 2 Fizz 4 Buzz Fizz 7 8 Fizz Buzz 11 Fizz 13 14 FizzBuzz 16 17 Fizz 19 Buzz Fizz 22 23 Fizz Buzz 26 Fizz 28 29 FizzBuzz 31 32 Fizz 34 Buzz Fizz 37 38 Fizz Buzz 41 Fizz 43 44 FizzBuzz 46 47 Fizz 49 Buzz "
          ]
        }
      ],
      "source": [
        "# Write a Python program which iterates the integers from 1 to 50. \n",
        "# For multiples of three print \"Fizz\" instead of the number and for the multiples of five print \"Buzz\".\n",
        "# For numbers which are multiples of both three and five print \"FizzBuzz\". \n",
        "# Sample Output : 1 2 Fizz 4 Buzz\n",
        "\n",
        "\n",
        "for i in range(1,51):\n",
        "  if i % 15 == 0 :\n",
        "    print(\"FizzBuzz\",end=\" \")\n",
        "  elif i % 5 == 0 :\n",
        "    print(\"Buzz\", end=\" \")\n",
        "  elif i % 3 == 0 :\n",
        "    print(\"Fizz\",end=\" \") \n",
        "  else:\n",
        "    print(i, end=\" \")  \n",
        "\n"
      ]
    }
  ]
}