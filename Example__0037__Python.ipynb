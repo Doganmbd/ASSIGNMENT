{
  "nbformat": 4,
  "nbformat_minor": 0,
  "metadata": {
    "colab": {
      "name": "Example__0037__Python.ipynb",
      "provenance": [],
      "collapsed_sections": [],
      "authorship_tag": "ABX9TyPFUKOSBPjQinsJ6sLosJtO"
    },
    "kernelspec": {
      "name": "python3",
      "display_name": "Python 3"
    },
    "language_info": {
      "name": "python"
    }
  },
  "cells": [
    {
      "cell_type": "markdown",
      "source": [
        "You are given a string . Your task is to find out if the string contains: alphanumeric characters, alphabetical characters, digits, lowercase and uppercase characters.\n",
        "\n",
        "Input Format\n",
        "\n",
        "A single line containing a string .\n",
        "\n",
        "Output Format\n",
        "\n",
        "In the first line, print True if has any alphanumeric characters. Otherwise, print False. In the second line, print True if has any alphabetical characters. Otherwise, print False. In the third line, print True if has any digits. Otherwise, print False. In the fourth line, print True if has any lowercase characters. Otherwise, print False. In the fifth line, print True if has any uppercase characters. Otherwise, print False.\n",
        "\n",
        "\n",
        "\n",
        "\n",
        "Size bir dize verilir. Göreviniz, dizenin şunları içerip içermediğini bulmaktır: alfasayısal karakterler, alfabetik karakterler, rakamlar, küçük ve büyük harfler.\n",
        "\n",
        "Giriş Formatı\n",
        "\n",
        "Bir dize içeren tek bir satır .\n",
        "\n",
        "Çıkış biçimi\n",
        "\n",
        "İlk satırda, alfasayısal karakterler varsa True yazdırın. Aksi takdirde, Yanlış yazdırın. İkinci satırda, alfabetik karakterler varsa True yazdırın. Aksi takdirde, Yanlış yazdırın. Üçüncü satırda, herhangi bir rakam varsa True yazdırın. Aksi takdirde, Yanlış yazdırın. Dördüncü satırda, küçük harfli karakterler varsa True yazdırın. Aksi takdirde, Yanlış yazdırın. Beşinci satırda, büyük harf varsa True yazdırın. Aksi takdirde, Yanlış yazdırın.\n",
        "\n",
        "Sample Input\n",
        "\n",
        "qA2\n",
        "\n",
        "Sample Output\n",
        "\n",
        "True\n",
        "\n",
        "True\n",
        "\n",
        "True\n",
        "\n",
        "True\n",
        "\n",
        "True"
      ],
      "metadata": {
        "id": "6GIplVc0G-zN"
      }
    },
    {
      "cell_type": "code",
      "source": [
        "# any fonksiyonu Python'da iteratable herhangi bir nesnede sadece tek bir elemanın true değer içerip içermediğini kontrol etmeye yarayan fonksiyondur.\n",
        "\n",
        "text = input(\"Enter a text = \")\n",
        "print(any(i.isalnum() for i in text))       # isalnum (a-z) ve (0-9) True döndürür.\n",
        "print(any(i.isalpha() for i in text))       # isalpha (a-z) True döndürür.\n",
        "print(any(i.isdigit() for i in text))       # isdigit tüm karakterler rakam ise True döndürür.\n",
        "print(any(i.islower() for i in text))       # islower tüm karakterler küçük harf ise True döndürür.\n",
        "print(any(i.isupper() for i in text))       # isupper tüm karakterler büyük harf ise True döndürür."
      ],
      "metadata": {
        "colab": {
          "base_uri": "https://localhost:8080/"
        },
        "id": "cCShB-hJHOhF",
        "outputId": "f37d17be-1d7d-41f0-f348-2e51e53177f5"
      },
      "execution_count": 11,
      "outputs": [
        {
          "output_type": "stream",
          "name": "stdout",
          "text": [
            "Enter a text = qA2\n",
            "True\n",
            "True\n",
            "True\n",
            "True\n",
            "True\n"
          ]
        }
      ]
    }
  ]
}