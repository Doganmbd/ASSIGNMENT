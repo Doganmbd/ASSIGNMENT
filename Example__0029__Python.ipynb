{
  "nbformat": 4,
  "nbformat_minor": 0,
  "metadata": {
    "colab": {
      "name": "Example__0029__Python.ipynb",
      "provenance": [],
      "collapsed_sections": [],
      "authorship_tag": "ABX9TyOQ/puO2wC5o8sP4iTGaq90"
    },
    "kernelspec": {
      "name": "python3",
      "display_name": "Python 3"
    },
    "language_info": {
      "name": "python"
    }
  },
  "cells": [
    {
      "cell_type": "markdown",
      "source": [
        "Given a list, right rotate the list by n position.\n",
        "Write a program to shift every element of a list to circularly right.\n",
        "\n",
        "Bir liste verildiğinde, listeyi n konumuna göre sağa döndürün.\n",
        "Bir listenin her öğesini dairesel olarak sağa kaydıran bir program yazın.\n",
        "\n",
        "example = ![image.png](data:image/png;base64,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)"
      ],
      "metadata": {
        "id": "XQmRJgHB989Z"
      }
    },
    {
      "cell_type": "code",
      "source": [
        "# n = how many units we want to shift\n",
        "\n",
        "n = int(input(\" n = \"))\n",
        "liste = [1,2,3,4,5]\n",
        "n_liste = liste[len(liste) - n :] + liste[0 : len(liste) - n]\n",
        "print(n_liste)"
      ],
      "metadata": {
        "colab": {
          "base_uri": "https://localhost:8080/"
        },
        "id": "qERnB0Ga-1hm",
        "outputId": "e1aa6a53-1065-4f64-c3b6-005da092043a"
      },
      "execution_count": 25,
      "outputs": [
        {
          "output_type": "stream",
          "name": "stdout",
          "text": [
            " n = 1\n",
            "[5, 1, 2, 3, 4]\n"
          ]
        }
      ]
    }
  ]
}