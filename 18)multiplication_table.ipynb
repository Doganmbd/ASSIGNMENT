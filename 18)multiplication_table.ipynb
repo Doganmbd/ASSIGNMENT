{
  "nbformat": 4,
  "nbformat_minor": 0,
  "metadata": {
    "colab": {
      "name": "18)multiplication table.ipynb",
      "provenance": [],
      "collapsed_sections": [],
      "authorship_tag": "ABX9TyPT6Kj6WoRtxnXKox5F056n"
    },
    "kernelspec": {
      "name": "python3",
      "display_name": "Python 3"
    },
    "language_info": {
      "name": "python"
    }
  },
  "cells": [
    {
      "cell_type": "code",
      "execution_count": 1,
      "metadata": {
        "colab": {
          "base_uri": "https://localhost:8080/"
        },
        "id": "GHl71Z2cUfmg",
        "outputId": "3790201b-74be-47a8-ccde-80214adde5ef"
      },
      "outputs": [
        {
          "output_type": "stream",
          "name": "stdout",
          "text": [
            "Enter a number = 5\n",
            "1 X 5 = 5 \n",
            "2 X 5 = 10 \n",
            "3 X 5 = 15 \n",
            "4 X 5 = 20 \n",
            "5 X 5 = 25 \n",
            "6 X 5 = 30 \n",
            "7 X 5 = 35 \n",
            "8 X 5 = 40 \n",
            "9 X 5 = 45 \n",
            "10 X 5 = 50 \n"
          ]
        }
      ],
      "source": [
        "# Try to print a multiplication table with numbers from 1 to 10.\n",
        "\n",
        "number = int(input(\"Enter a number = \"))\n",
        "\n",
        "for i in range(1,11):\n",
        "  print(\"{} X {} = {} \".format(i,number,number*i))"
      ]
    }
  ]
}