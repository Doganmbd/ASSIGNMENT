{
  "nbformat": 4,
  "nbformat_minor": 0,
  "metadata": {
    "colab": {
      "name": "16)The exam will start from.ipynb",
      "provenance": [],
      "authorship_tag": "ABX9TyNT409h1LvMrIozo3uRp/b7",
      "include_colab_link": true
    },
    "kernelspec": {
      "name": "python3",
      "display_name": "Python 3"
    },
    "language_info": {
      "name": "python"
    }
  },
  "cells": [
    {
      "cell_type": "markdown",
      "metadata": {
        "id": "view-in-github",
        "colab_type": "text"
      },
      "source": [
        "<a href=\"https://colab.research.google.com/github/Dogan-mb/ASSIGNMENT/blob/main/16)The_exam_will_start_from.ipynb\" target=\"_parent\"><img src=\"https://colab.research.google.com/assets/colab-badge.svg\" alt=\"Open In Colab\"/></a>"
      ]
    },
    {
      "cell_type": "code",
      "execution_count": 20,
      "metadata": {
        "colab": {
          "base_uri": "https://localhost:8080/"
        },
        "id": "0x-GNriO_Zk-",
        "outputId": "eaacea30-058c-4891-ae3b-94c7a96cf575"
      },
      "outputs": [
        {
          "output_type": "stream",
          "name": "stdout",
          "text": [
            "The exam will start from : 20 / 12 / 2021 \n"
          ]
        }
      ],
      "source": [
        "# Write a Python program to display the examination schedule. (extract the date from exam_st_date).\n",
        "\n",
        "# exam_st_date = (20, 12, 2021)\n",
        "\n",
        "# Sample Output : The exam will start from : 20 / 12 / 2021\n",
        "\n",
        "\n",
        "exam_st_date = (20, 12, 2021)\n",
        "\n",
        "print(\"The exam will start from : %i / %i / %i \" %exam_st_date)\n",
        "\n"
      ]
    }
  ]
}