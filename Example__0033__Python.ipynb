{
  "nbformat": 4,
  "nbformat_minor": 0,
  "metadata": {
    "colab": {
      "name": "Example__0033__Python.ipynb",
      "provenance": [],
      "collapsed_sections": [],
      "authorship_tag": "ABX9TyNi+WF+JaIQZJOCnoS+4EIL"
    },
    "kernelspec": {
      "name": "python3",
      "display_name": "Python 3"
    },
    "language_info": {
      "name": "python"
    }
  },
  "cells": [
    {
      "cell_type": "markdown",
      "source": [
        "Write a program that prints the numbers from 1 to 50 that form a pythagorean triangle. \n",
        "\n",
        "\n",
        "Bir pisagor üçgeni oluşturan 1'den 50'e kadar sayıları ekrana yazdıran bir program yazın. \n",
        "\n",
        "For Example : 3 4 5\n"
      ],
      "metadata": {
        "id": "TGqhQJrx-9kC"
      }
    },
    {
      "cell_type": "code",
      "source": [
        "for x in range(1,50):\n",
        "  for y in range(x,50):\n",
        "    for z in range(y,50):\n",
        "      if x ** 2 + y ** 2 == z ** 2 :\n",
        "        print(x,y,z)"
      ],
      "metadata": {
        "colab": {
          "base_uri": "https://localhost:8080/"
        },
        "id": "ZvmrmnOv_LCb",
        "outputId": "d51d09db-ba28-4e4b-cefc-84ab29aba6bc"
      },
      "execution_count": 2,
      "outputs": [
        {
          "output_type": "stream",
          "name": "stdout",
          "text": [
            "3 4 5\n",
            "5 12 13\n",
            "6 8 10\n",
            "7 24 25\n",
            "8 15 17\n",
            "9 12 15\n",
            "9 40 41\n",
            "10 24 26\n",
            "12 16 20\n",
            "12 35 37\n",
            "15 20 25\n",
            "15 36 39\n",
            "16 30 34\n",
            "18 24 30\n",
            "20 21 29\n",
            "21 28 35\n",
            "24 32 40\n",
            "27 36 45\n"
          ]
        }
      ]
    }
  ]
}