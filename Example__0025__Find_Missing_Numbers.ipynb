{
  "nbformat": 4,
  "nbformat_minor": 0,
  "metadata": {
    "colab": {
      "name": "Example__0025__Find Missing Numbers.ipynb",
      "provenance": [],
      "collapsed_sections": [],
      "authorship_tag": "ABX9TyN0UOWFZ3rINd9YNC41ufhs"
    },
    "kernelspec": {
      "name": "python3",
      "display_name": "Python 3"
    },
    "language_info": {
      "name": "python"
    }
  },
  "cells": [
    {
      "cell_type": "code",
      "source": [
        "\"\"\" A jumbled list is given whose elements are consecutive numbers. Write python code that outputs even numbers of missing numbers\n",
        " that are between the smallest element and the largest element of the list, but not shown in the list.\"\"\"\n",
        "\n",
        "\n",
        "\"\"\" Elemanları ardışık sayılar olan karışık bir liste verilir. Eksik sayıları çift olarak veren python kodu yazın\n",
        " listenin en küçük öğesi ile en büyük öğesi arasındadır, ancak listede gösterilmez.\"\"\"\n",
        "\n",
        "# liste = [10, 11, 21, 36, 5, 8, 52, 28, 29, 53, 54, 45, 19, 20, 47, 55, 39, 41, 7, 9, 17, 27, 42, 22, 37, 51, 46, 18, 44, 30, 34, 13, 15, 35, 33, 16, 50, 24]\n",
        "\n",
        "# Expected Output: 6 12 14 26 32 38 40 48\n",
        "\n",
        "liste = [10, 11, 21, 36, 5, 8, 52, 28, 29, 53, 54, 45, 19, 20, 47, 55, 39, 41, 7, 9, 17, 27, 42, 22, 37, 51, 46, 18, 44, 30, 34, 13, 15, 35, 33, 16, 50, 24]\n",
        "\n",
        "for i in range(min(liste),max(liste) + 1) :         \n",
        "  if not i in liste  and i % 2 == 0 :             # listenin içinde olan sayıları (i in liste ile) i ye teker teker soktuk.listenin içinde olmayan sayıları bulabilmek için.\n",
        "    print(i,end = \" \")                            # (listenin içinde olmayan sayılar)=(i in liste) 0(False) dır.Bu şekilde (not i in liste) 1(True) olur ve if döngüsü çalışır.\n",
        "\n"
      ],
      "metadata": {
        "colab": {
          "base_uri": "https://localhost:8080/"
        },
        "id": "Dgwr4n_uDwLY",
        "outputId": "0375f08e-1242-4269-8491-9b2ac8d89d36"
      },
      "execution_count": 15,
      "outputs": [
        {
          "output_type": "stream",
          "name": "stdout",
          "text": [
            "6 12 14 26 32 38 40 48 "
          ]
        }
      ]
    },
    {
      "cell_type": "code",
      "source": [
        "# With the List Comprehension method\n",
        "\n",
        "liste = [10, 11, 21, 36, 5, 8, 52, 28, 29, 53, 54, 45, 19, 20, 47, 55, 39, 41, 7, 9, 17, 27, 42, 22, 37, 51, 46, 18, 44, 30, 34, 13, 15, 35, 33, 16, 50, 24]\n",
        "\n",
        "missing_numbers = [ i for i in range(min(liste),max(liste) + 1) if not i in liste and i % 2 == 0 ]\n",
        "print(missing_numbers)\n"
      ],
      "metadata": {
        "colab": {
          "base_uri": "https://localhost:8080/"
        },
        "id": "Yx7q1XA0HzGY",
        "outputId": "967a598c-0948-4969-e525-625456784766"
      },
      "execution_count": 14,
      "outputs": [
        {
          "output_type": "stream",
          "name": "stdout",
          "text": [
            "[6, 12, 14, 26, 32, 38, 40, 48]\n"
          ]
        }
      ]
    }
  ]
}