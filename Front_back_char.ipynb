{
  "nbformat": 4,
  "nbformat_minor": 0,
  "metadata": {
    "colab": {
      "name": "Front-back-char.ipynb",
      "provenance": [],
      "authorship_tag": "ABX9TyNYaw/x6+B8zSQxcfb63W/L"
    },
    "kernelspec": {
      "name": "python3",
      "display_name": "Python 3"
    },
    "language_info": {
      "name": "python"
    }
  },
  "cells": [
    {
      "cell_type": "code",
      "execution_count": 17,
      "metadata": {
        "colab": {
          "base_uri": "https://localhost:8080/"
        },
        "id": "o1dJLUvc-Xbj",
        "outputId": "482d5441-d467-46d8-833a-41e91e341eee"
      },
      "outputs": [
        {
          "output_type": "stream",
          "name": "stdout",
          "text": [
            "bithuG\n"
          ]
        }
      ],
      "source": [
        "def front_back(word):\n",
        "  if len(word) <= 1:\n",
        "    return word\n",
        "\n",
        "  mid=word[1:len(word)-1] \n",
        "  return word[len(word)-1] + mid + word[0]\n",
        "print(front_back(\"Github\")) "
      ]
    },
    {
      "cell_type": "code",
      "source": [
        "word = input(\"Enter a word = \")\n",
        "def front_back(word):\n",
        "  if len(word) <= 1 :\n",
        "    return word\n",
        "\n",
        "  mid = word[1:len(word)-1]\n",
        "  return word[len(word)-1] + mid + word[0] \n",
        "\n",
        "\n",
        "front_back(word)   \n",
        " "
      ],
      "metadata": {
        "colab": {
          "base_uri": "https://localhost:8080/",
          "height": 53
        },
        "id": "nvzWkhMX_Tlq",
        "outputId": "5ef0c6ca-ee4b-4b31-be90-30e00872b791"
      },
      "execution_count": 16,
      "outputs": [
        {
          "name": "stdout",
          "output_type": "stream",
          "text": [
            "Enter a word = Github\n"
          ]
        },
        {
          "output_type": "execute_result",
          "data": {
            "application/vnd.google.colaboratory.intrinsic+json": {
              "type": "string"
            },
            "text/plain": [
              "'bithuG'"
            ]
          },
          "metadata": {},
          "execution_count": 16
        }
      ]
    }
  ]
}