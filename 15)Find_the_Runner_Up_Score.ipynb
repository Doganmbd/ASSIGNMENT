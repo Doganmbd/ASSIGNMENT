{
  "nbformat": 4,
  "nbformat_minor": 0,
  "metadata": {
    "colab": {
      "name": "15)Find the Runner-Up Score.ipynb",
      "provenance": [],
      "authorship_tag": "ABX9TyODjZ3pWF7uUvhGewLgRjql"
    },
    "kernelspec": {
      "name": "python3",
      "display_name": "Python 3"
    },
    "language_info": {
      "name": "python"
    }
  },
  "cells": [
    {
      "cell_type": "code",
      "execution_count": 29,
      "metadata": {
        "colab": {
          "base_uri": "https://localhost:8080/"
        },
        "id": "Jo5o5x_q0AL1",
        "outputId": "b774644d-894e-4d60-990b-47c912ab2c5d"
      },
      "outputs": [
        {
          "output_type": "stream",
          "name": "stdout",
          "text": [
            "How many points are there = 5 \n",
            "Enter the contestants' scores = 10 15 16 11 27\n",
            "16\n"
          ]
        }
      ],
      "source": [
        "# Given the participants' score sheet for your University Sports Day, you are required to find the runner-up score.\n",
        "# You are given scores.Store them in a list and find the score of the runner-up. Input Format The first line contains .\n",
        "# The second line contains an array of integers each separated by a space.\n",
        "\n",
        "first_line = int(input(\"How many points are there = \"))\n",
        "\n",
        "scores = list(map(int,input(\"Enter the contestants' scores = \").split()))\n",
        "print(sorted(list(set(scores)))[-2])"
      ]
    }
  ]
}