{
  "nbformat": 4,
  "nbformat_minor": 0,
  "metadata": {
    "colab": {
      "name": "15)Find the Runner-Up Score.ipynb",
      "provenance": [],
      "authorship_tag": "ABX9TyN6nbJpBHD0eusxI8rnw2U3"
    },
    "kernelspec": {
      "name": "python3",
      "display_name": "Python 3"
    },
    "language_info": {
      "name": "python"
    }
  },
  "cells": [
    {
      "cell_type": "code",
      "execution_count": 32,
      "metadata": {
        "colab": {
          "base_uri": "https://localhost:8080/"
        },
        "id": "Jo5o5x_q0AL1",
        "outputId": "c5212177-7b93-458a-fcbf-98e1e678738e"
      },
      "outputs": [
        {
          "output_type": "stream",
          "name": "stdout",
          "text": [
            "How many points are there = 5\n",
            "Enter the contestants' scores = 36 30 48 29 45\n",
            "45\n"
          ]
        }
      ],
      "source": [
        "# Given the participants' score sheet for your University Sports Day, you are required to find the runner-up score.\n",
        "# You are given scores.Store them in a list and find the score of the runner-up. Input Format The first line contains .\n",
        "# The second line contains an array of integers each separated by a space.\n",
        "\n",
        "first_line = int(input(\"How many points are there = \"))\n",
        "\n",
        "scores = list(map(int,input(\"Enter the contestants' scores = \").split()))\n",
        "print(sorted(set(scores))[-2])"
      ]
    }
  ]
}