{
  "nbformat": 4,
  "nbformat_minor": 0,
  "metadata": {
    "colab": {
      "name": "12)except the first char ,all occurrences of its first char changed to '$'.ipynb",
      "provenance": [],
      "authorship_tag": "ABX9TyM3GlFJktA1VwvkYmJPPLss"
    },
    "kernelspec": {
      "name": "python3",
      "display_name": "Python 3"
    },
    "language_info": {
      "name": "python"
    }
  },
  "cells": [
    {
      "cell_type": "code",
      "source": [
        "# Python: Get a string from a given string where all occurrences of its first char have been changed to '$', except the first char itself\n",
        "\n",
        "text = input(\"Enter word or sentence = \")\n",
        "text =text[0] + text[1:].replace(text[0], \"$\")\n",
        "text"
      ],
      "metadata": {
        "colab": {
          "base_uri": "https://localhost:8080/",
          "height": 53
        },
        "id": "vmSKDK11VznQ",
        "outputId": "de1098ae-36c5-4a53-c279-b979778de166"
      },
      "execution_count": 17,
      "outputs": [
        {
          "name": "stdout",
          "output_type": "stream",
          "text": [
            "Enter word or sentence = america\n"
          ]
        },
        {
          "output_type": "execute_result",
          "data": {
            "application/vnd.google.colaboratory.intrinsic+json": {
              "type": "string"
            },
            "text/plain": [
              "'americ$'"
            ]
          },
          "metadata": {},
          "execution_count": 17
        }
      ]
    },
    {
      "cell_type": "code",
      "execution_count": 21,
      "metadata": {
        "colab": {
          "base_uri": "https://localhost:8080/"
        },
        "id": "7aqxnvRDR2sm",
        "outputId": "81e5f845-833f-4604-a840-89a87e02efdd"
      },
      "outputs": [
        {
          "output_type": "stream",
          "name": "stdout",
          "text": [
            "Enter  word or sentence = four fine fresh fish for you.\n",
            "four $ine $resh $ish $or you.\n"
          ]
        }
      ],
      "source": [
        "# Python: Get a string from a given string where all occurrences of its first char have been changed to '$', except the first char itself\n",
        "\n",
        "def change_char(text):\n",
        "  \n",
        "  text =  text[0] + text[1:].replace(text[0], \"$\")\n",
        "  return text\n",
        "\n",
        "print(change_char(input(\"Enter  word or sentence = \")))"
      ]
    }
  ]
}