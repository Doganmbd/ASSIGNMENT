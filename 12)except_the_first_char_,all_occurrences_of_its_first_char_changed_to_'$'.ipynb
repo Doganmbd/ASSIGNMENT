{
  "nbformat": 4,
  "nbformat_minor": 0,
  "metadata": {
    "colab": {
      "name": "12)except the first char ,all occurrences of its first char changed to '$'.ipynb",
      "provenance": [],
      "collapsed_sections": [],
      "authorship_tag": "ABX9TyPYwexpwl23jOSP1RNXI7Qn",
      "include_colab_link": true
    },
    "kernelspec": {
      "name": "python3",
      "display_name": "Python 3"
    },
    "language_info": {
      "name": "python"
    }
  },
  "cells": [
    {
      "cell_type": "markdown",
      "metadata": {
        "id": "view-in-github",
        "colab_type": "text"
      },
      "source": [
        "<a href=\"https://colab.research.google.com/github/Dogan-mb/ASSIGNMENT/blob/main/12)except_the_first_char_%2Call_occurrences_of_its_first_char_changed_to_'%24'.ipynb\" target=\"_parent\"><img src=\"https://colab.research.google.com/assets/colab-badge.svg\" alt=\"Open In Colab\"/></a>"
      ]
    },
    {
      "cell_type": "code",
      "source": [
        "# Python: Get a string from a given string where all occurrences of its first char have been changed to '$', except the first char itself\n",
        "\n",
        "text = input(\"Enter word or sentence = \")\n",
        "text =text[0] + text[1:].replace(text[0], \"$\")\n",
        "print(text)"
      ],
      "metadata": {
        "colab": {
          "base_uri": "https://localhost:8080/"
        },
        "id": "vmSKDK11VznQ",
        "outputId": "577350eb-28e3-49a5-f121-2069fe5cd5f7"
      },
      "execution_count": 30,
      "outputs": [
        {
          "output_type": "stream",
          "name": "stdout",
          "text": [
            "Enter word or sentence = america\n",
            "americ$\n"
          ]
        }
      ]
    },
    {
      "cell_type": "code",
      "execution_count": 21,
      "metadata": {
        "colab": {
          "base_uri": "https://localhost:8080/"
        },
        "id": "7aqxnvRDR2sm",
        "outputId": "81e5f845-833f-4604-a840-89a87e02efdd"
      },
      "outputs": [
        {
          "output_type": "stream",
          "name": "stdout",
          "text": [
            "Enter  word or sentence = four fine fresh fish for you.\n",
            "four $ine $resh $ish $or you.\n"
          ]
        }
      ],
      "source": [
        "a# Python: Get a string from a given string where all occurrences of its first char have been changed to '$', except the first char itself\n",
        "\n",
        "def change_char(text):\n",
        "  \n",
        "  text =  text[0] + text[1:].replace(text[0], \"$\")\n",
        "  return text\n",
        "\n",
        "print(change_char(input(\"Enter  word or sentence = \")))"
      ]
    }
  ]
}