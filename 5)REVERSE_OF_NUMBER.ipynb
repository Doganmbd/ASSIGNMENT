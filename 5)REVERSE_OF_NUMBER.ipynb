{
  "nbformat": 4,
  "nbformat_minor": 0,
  "metadata": {
    "colab": {
      "name": "5)REVERSE OF NUMBER.ipynb",
      "provenance": [],
      "collapsed_sections": [],
      "authorship_tag": "ABX9TyNUPxCj+DFLQgfNPFtUh46I",
      "include_colab_link": true
    },
    "kernelspec": {
      "name": "python3",
      "display_name": "Python 3"
    },
    "language_info": {
      "name": "python"
    }
  },
  "cells": [
    {
      "cell_type": "markdown",
      "metadata": {
        "id": "view-in-github",
        "colab_type": "text"
      },
      "source": [
        "<a href=\"https://colab.research.google.com/github/DMB29/ASSIGNMENT1/blob/main/5)REVERSE_OF_NUMBER.ipynb\" target=\"_parent\"><img src=\"https://colab.research.google.com/assets/colab-badge.svg\" alt=\"Open In Colab\"/></a>"
      ]
    },
    {
      "cell_type": "code",
      "metadata": {
        "colab": {
          "base_uri": "https://localhost:8080/"
        },
        "id": "cTFHJ3UBvu75",
        "outputId": "14ecbb9b-7590-4030-d335-8dfa9bd7d967"
      },
      "source": [
        "# A program that prints the reverse of the number given in integer format without using a loop, leaving a space between them.\n",
        "\n",
        "num = 9423\n",
        "print(num % 10, (num % 100 -num % 10 ) // 10, (num % 1000 - num % 100) // 100, (num % 10000 - num % 1000) // 1000)"
      ],
      "execution_count": 2,
      "outputs": [
        {
          "output_type": "stream",
          "name": "stdout",
          "text": [
            "3 2 4 9\n"
          ]
        }
      ]
    },
    {
      "cell_type": "code",
      "metadata": {
        "colab": {
          "base_uri": "https://localhost:8080/"
        },
        "id": "OYHRIp4s2FKG",
        "outputId": "bd178b63-e80f-4563-e040-f167bd79f022"
      },
      "source": [
        "numm = 9423\n",
        "num = str(numm)\n",
        "new_list = list(num)[::-1]\n",
        "print(new_list)"
      ],
      "execution_count": 12,
      "outputs": [
        {
          "output_type": "stream",
          "name": "stdout",
          "text": [
            "['3', '2', '4', '9']\n"
          ]
        }
      ]
    },
    {
      "cell_type": "code",
      "metadata": {
        "colab": {
          "base_uri": "https://localhost:8080/"
        },
        "id": "j6BKHcZq4BDY",
        "outputId": "7ecdc0ee-f6b4-4a26-a568-2075eb293868"
      },
      "source": [
        "# A program that prints the reverse of the number given in integer format, using a loop, leaving a space between them.\n",
        "\n",
        "numm = 9423\n",
        "num = str(numm)\n",
        "my_list = []\n",
        "\n",
        "\n",
        "for i in list(num)[::-1] :\n",
        "  my_list.append(i)\n",
        "print(my_list)  "
      ],
      "execution_count": 11,
      "outputs": [
        {
          "output_type": "stream",
          "name": "stdout",
          "text": [
            "['3', '2', '4', '9']\n"
          ]
        }
      ]
    },
    {
      "cell_type": "code",
      "metadata": {
        "colab": {
          "base_uri": "https://localhost:8080/",
          "height": 53
        },
        "id": "WyXgHcTg4iom",
        "outputId": "4ac663ac-9379-4df1-eacc-864ddf779d3e"
      },
      "source": [
        "num = input(\"please enter a number : \")\n",
        "reserve_num = \" \".join([i for i in (list(num)[::-1])])\n",
        "reserve_num"
      ],
      "execution_count": 13,
      "outputs": [
        {
          "name": "stdout",
          "output_type": "stream",
          "text": [
            "please enter a number : 9423\n"
          ]
        },
        {
          "output_type": "execute_result",
          "data": {
            "application/vnd.google.colaboratory.intrinsic+json": {
              "type": "string"
            },
            "text/plain": [
              "'3 2 4 9'"
            ]
          },
          "metadata": {},
          "execution_count": 13
        }
      ]
    }
  ]
}