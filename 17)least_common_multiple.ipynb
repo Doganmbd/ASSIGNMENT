{
  "nbformat": 4,
  "nbformat_minor": 0,
  "metadata": {
    "colab": {
      "name": "17)least common multiple.ipynb",
      "provenance": [],
      "authorship_tag": "ABX9TyPamLRSVLeo/yz2ADsOB3HU"
    },
    "kernelspec": {
      "name": "python3",
      "display_name": "Python 3"
    },
    "language_info": {
      "name": "python"
    }
  },
  "cells": [
    {
      "cell_type": "code",
      "source": [
        "# Write a program that finds the least common multiple of two numbers received from the user.\n",
        "# Kullanıcıdan alınan iki sayının en küçük ortak katını bulan bir program yazın.\n",
        "\n",
        "number_1 = int(input(\"Enter a first number = \"))\n",
        "number_2 =int(input(\"Enter a second number = \"))\n",
        "\n",
        "for i in range(1,min(number_1, number_2) + 1):\n",
        "    if (number_1 % i==0) and (number_2 % i ==0):\n",
        "        output = i\n",
        "print(\"LCM/EKOK = \",(number_1 * number_2 )//output)"
      ],
      "metadata": {
        "colab": {
          "base_uri": "https://localhost:8080/"
        },
        "id": "sE6umejFOwg3",
        "outputId": "7c060ccc-a607-4b38-bdf8-59bb2088d2ef"
      },
      "execution_count": 30,
      "outputs": [
        {
          "output_type": "stream",
          "name": "stdout",
          "text": [
            "Enter a first number = 25\n",
            "Enter a second number = 35\n",
            "LCM/EKOK =  175\n"
          ]
        }
      ]
    },
    {
      "cell_type": "code",
      "source": [
        "# Write a program that finds the least common multiple of two numbers received from the user.\n",
        "# Kullanıcıdan alınan iki sayının en küçük ortak katını bulan bir program yazın.\n",
        "\n",
        "number_1 = int(input(\"Enter a first number = \"))\n",
        "number_2 =int(input(\"Enter a second number = \"))\n",
        "\n",
        "if number_1< number_2 :\n",
        "  dividing = number_1\n",
        "\n",
        "else :\n",
        "  dividing=number_2\n",
        "\n",
        "for i in range(1,dividing + 1):\n",
        "  if number_1% i == 0 and number_2 % i ==0:\n",
        "    output = i\n",
        "\n",
        "print(\"LCM/EKOK = \",(number_1 * number_2 )//output)\n",
        "           "
      ],
      "metadata": {
        "colab": {
          "base_uri": "https://localhost:8080/"
        },
        "id": "70-RKDrOQQiN",
        "outputId": "af04c8c4-4c14-4185-bc72-6a04e67616f2"
      },
      "execution_count": 31,
      "outputs": [
        {
          "output_type": "stream",
          "name": "stdout",
          "text": [
            "Enter a first number = 25\n",
            "Enter a second number = 35\n",
            "LCM/EKOK =  175\n"
          ]
        }
      ]
    }
  ]
}