{
  "nbformat": 4,
  "nbformat_minor": 0,
  "metadata": {
    "colab": {
      "name": "8)Two_integer.ipynb",
      "provenance": [],
      "authorship_tag": "ABX9TyOqef+tGtHsEDSYE5zuX974"
    },
    "kernelspec": {
      "name": "python3",
      "display_name": "Python 3"
    },
    "language_info": {
      "name": "python"
    }
  },
  "cells": [
    {
      "cell_type": "code",
      "execution_count": 6,
      "metadata": {
        "colab": {
          "base_uri": "https://localhost:8080/"
        },
        "id": "q8MX79pzfKqj",
        "outputId": "39146be5-2588-463d-e8f8-3f805aa394ba"
      },
      "outputs": [
        {
          "output_type": "stream",
          "name": "stdout",
          "text": [
            "87\n",
            "40\n",
            "optimum\n"
          ]
        }
      ],
      "source": [
        "# Write a Python program to sum of two given integers. However, if the sum is between 40 to 60 it will return \"optimum\"(40 < a + b < 60)\n",
        "\n",
        "def sum(a,b) :\n",
        "  sum = a + b \n",
        "  if sum in range(41,60) :\n",
        "    return \"optimum\"\n",
        "\n",
        "  else:\n",
        "    return sum\n",
        "\n",
        "print(sum(49,38))      \n",
        "print(sum(15,25)) \n",
        "print(sum(25,27)) \n",
        "\n"
      ]
    },
    {
      "cell_type": "code",
      "source": [
        "while True:\n",
        "\n",
        "  num1 =int(input(\"Enter a first number = \"))\n",
        "  num2 =int(input(\"Enter a second  number = \"))\n",
        "  \n",
        "  if 40 < num1 + num2 < 60 :\n",
        "    print(\"optimum\")\n",
        "    break\n",
        "    \n",
        "  else:\n",
        "    print(num1 + num2)\n",
        "    "
      ],
      "metadata": {
        "colab": {
          "base_uri": "https://localhost:8080/"
        },
        "id": "czUFN1hIE5N2",
        "outputId": "8b6e0576-f85a-4756-ada5-62ef42a72883"
      },
      "execution_count": 15,
      "outputs": [
        {
          "output_type": "stream",
          "name": "stdout",
          "text": [
            "Enter a first number = 49\n",
            "Enter a second  number = 38\n",
            "87\n",
            "Enter a first number = 15\n",
            "Enter a second  number = 25\n",
            "40\n",
            "Enter a first number = 25\n",
            "Enter a second  number = 27\n",
            "optimum\n"
          ]
        }
      ]
    }
  ]
}