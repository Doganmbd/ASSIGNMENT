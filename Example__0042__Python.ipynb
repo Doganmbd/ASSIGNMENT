{
  "nbformat": 4,
  "nbformat_minor": 0,
  "metadata": {
    "colab": {
      "name": "Example__0042__Python.ipynb",
      "provenance": [],
      "collapsed_sections": [],
      "authorship_tag": "ABX9TyPC5F9di47jKLf5gZGmsNo5"
    },
    "kernelspec": {
      "name": "python3",
      "display_name": "Python 3"
    },
    "language_info": {
      "name": "python"
    }
  },
  "cells": [
    {
      "cell_type": "markdown",
      "source": [
        "Given 2 arrays of ints, a and b, return True if they have the same first element or they have the same last element. Both arrays will be length 1 or more. (Without using for, if, while)\n",
        "\n",
        "\n",
        "2 tamsayı dizisi, a ve b verildiğinde, aynı ilk öğeye sahiplerse veya aynı son öğeye sahiplerse True döndürür. Her iki dizi de uzunluk 1 veya daha fazla olacaktır. (for, if, while kullanmadan)\n",
        "\n",
        "[1, 2, 4, 8, 3], [7, 1, 12, 3] → True\n",
        "\n",
        "[1, 2, 3], [7, 3, 2] → False\n",
        "\n",
        "[1, 2, 3], [1, 3] → True"
      ],
      "metadata": {
        "id": "69Lik8SHttxl"
      }
    },
    {
      "cell_type": "code",
      "source": [
        "list_1 = [1, 2, 4, 8, 3]\n",
        "list_2 = [7, 1, 12, 3] \n",
        "\n",
        "print(list_1[0] == list_2[0] or list_1[-1] == list_2[-1])"
      ],
      "metadata": {
        "colab": {
          "base_uri": "https://localhost:8080/"
        },
        "id": "9rjx2eWkt_dv",
        "outputId": "7813bfce-4cc9-4177-abdc-f89b62e61c1b"
      },
      "execution_count": 30,
      "outputs": [
        {
          "output_type": "stream",
          "name": "stdout",
          "text": [
            "True\n"
          ]
        }
      ]
    }
  ]
}