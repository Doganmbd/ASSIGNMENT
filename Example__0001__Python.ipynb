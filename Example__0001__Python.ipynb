{
  "nbformat": 4,
  "nbformat_minor": 0,
  "metadata": {
    "colab": {
      "name": "Example__0001__Python.ipynb",
      "provenance": [],
      "collapsed_sections": [],
      "authorship_tag": "ABX9TyOKcKjoJAS4DNSaxwaSg9F3"
    },
    "kernelspec": {
      "name": "python3",
      "display_name": "Python 3"
    },
    "language_info": {
      "name": "python"
    }
  },
  "cells": [
    {
      "cell_type": "markdown",
      "source": [
        "Try to find out if a number you get from the user is perfect.\n",
        "\n",
        "\n",
        "Kullanıcıdan aldığınız bir sayının mükemmel olup olmadığını bulmaya çalışın.\n",
        "\n",
        "A number is called a \"perfect number\" if the sum of its divisors is equal to itself. For example, 6 is a perfect number. (1 + 2 + 3 = 6)"
      ],
      "metadata": {
        "id": "oqVzJVEeKao-"
      }
    },
    {
      "cell_type": "code",
      "source": [
        "# shortcut\n",
        "# list comprehension\n",
        "# Ternary if condition\n",
        "\n",
        "number = int(input(\"Enter a number = \"))\n",
        "counter =sum([i for i in range(1,number) if number % i == 0]) \n",
        "if number == counter :\n",
        "  print(\"{} is a perfect number \". format(number))\n",
        "else :\n",
        "  print(\"{} is not a perfect number\".format(number))"
      ],
      "metadata": {
        "colab": {
          "base_uri": "https://localhost:8080/"
        },
        "id": "FidG1VByKiT1",
        "outputId": "4ecc7227-7e6a-4693-dec0-35fb9fba53e5"
      },
      "execution_count": 14,
      "outputs": [
        {
          "output_type": "stream",
          "name": "stdout",
          "text": [
            "Enter a number = 6\n",
            "6 is a perfect number \n"
          ]
        }
      ]
    },
    {
      "cell_type": "code",
      "source": [
        "number = int(input(\"Enter a number = \"))\n",
        "total = 0\n",
        "for i in range(1,number) :\n",
        "  if number % i == 0 :\n",
        "    total += i\n",
        "if total == number :\n",
        "  print(\"{} is a perfect number.\".format(number))\n",
        "else :\n",
        "  print(\"{} is not a perfect number.\".format(number))"
      ],
      "metadata": {
        "colab": {
          "base_uri": "https://localhost:8080/"
        },
        "id": "s76lt0buLZ7H",
        "outputId": "7d5fc1db-136a-40ed-8a50-b47e7dcf6974"
      },
      "execution_count": 15,
      "outputs": [
        {
          "output_type": "stream",
          "name": "stdout",
          "text": [
            "Enter a number = 6\n",
            "6 is a perfect number.\n"
          ]
        }
      ]
    },
    {
      "cell_type": "code",
      "source": [
        "number = int(input(\"Enter a number = \"))\n",
        "counter = 0\n",
        "my_list = []\n",
        "\n",
        "for i in range(1,number):\n",
        "  if number % i == 0 :\n",
        "    counter += i\n",
        "    my_list.append(i)\n",
        "print(\"sum of my_list >>\",my_list,\"=\",counter )\n",
        "\n",
        "if counter == number :\n",
        "  print(number ,\"=\", counter)\n",
        "  print(\"{} is a perfect number \". format(number))\n",
        "  \n",
        "else :\n",
        "  print(counter ,\"!=\", number)\n",
        "  print(\"{} is not a perfect number\".format(number))"
      ],
      "metadata": {
        "colab": {
          "base_uri": "https://localhost:8080/"
        },
        "id": "annn6Y1tLoat",
        "outputId": "be4429a8-7635-41ba-e7e0-60e35c5eb343"
      },
      "execution_count": 16,
      "outputs": [
        {
          "output_type": "stream",
          "name": "stdout",
          "text": [
            "Enter a number = 6\n",
            "sum of my_list >> [1, 2, 3] = 6\n",
            "6 = 6\n",
            "6 is a perfect number \n"
          ]
        }
      ]
    }
  ]
}