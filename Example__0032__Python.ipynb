{
  "nbformat": 4,
  "nbformat_minor": 0,
  "metadata": {
    "colab": {
      "name": "Example__0032__Python.ipynb",
      "provenance": [],
      "collapsed_sections": [],
      "authorship_tag": "ABX9TyM7as1JSk/l+Mt/Vjvn2EnN"
    },
    "kernelspec": {
      "name": "python3",
      "display_name": "Python 3"
    },
    "language_info": {
      "name": "python"
    }
  },
  "cells": [
    {
      "cell_type": "markdown",
      "source": [
        "Write a program that takes a maximum two-digit (1-99) number from the user and finds the pronunciation of that number. \n",
        "\n",
        "\n",
        "Kullanıcıdan en fazla iki basamaklı (1-99) sayı alan ve o sayının okunuşunu bulan bir program yazınız. \n",
        "\n",
        "For Example :\n",
        "\n",
        "İnput:97\n",
        "\n",
        "Output:Doksan yedi"
      ],
      "metadata": {
        "id": "xhIjC9mpibt4"
      }
    },
    {
      "cell_type": "code",
      "source": [
        "number = int(input(\"Enter a number = \"))\n",
        "ones = [\"\",\"bir\",\"iki\",\"üç\",\"dört\",\"beş\",\"altı\",\"yedi\",\"sekiz\",\"dokuz\"]\n",
        "tens = [\"\",\"On\",\"Yirmi\",\"Otuz\",\"Kırk\",\"Elli\",\"Altmış\",\"Yetmiş\",\"Seksen\",\"Doksan\"]\n",
        "\n",
        "digit_ones = number % 10\n",
        "digit_tens = number // 10\n",
        "\n",
        "print(tens[digit_tens], ones[digit_ones])"
      ],
      "metadata": {
        "colab": {
          "base_uri": "https://localhost:8080/"
        },
        "id": "j19LMmNOimTt",
        "outputId": "4968fbd4-39eb-41b7-f181-c90b52df7e01"
      },
      "execution_count": 8,
      "outputs": [
        {
          "output_type": "stream",
          "name": "stdout",
          "text": [
            "Enter a number = 97\n",
            "Doksan yedi\n"
          ]
        }
      ]
    }
  ]
}