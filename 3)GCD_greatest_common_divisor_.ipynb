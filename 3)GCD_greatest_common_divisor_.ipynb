{
  "nbformat": 4,
  "nbformat_minor": 0,
  "metadata": {
    "colab": {
      "name": "3)GCD_greatest common divisor .ipynb",
      "provenance": [],
      "authorship_tag": "ABX9TyO1YmlHcOvgHUxA6N92tWV7"
    },
    "kernelspec": {
      "name": "python3",
      "display_name": "Python 3"
    },
    "language_info": {
      "name": "python"
    }
  },
  "cells": [
    {
      "cell_type": "code",
      "source": [
        "# Write a Python program to compute the greatest common divisor (GCD) of two positive integers\n",
        "\n",
        "number_1 = int(input(\"Enter a first number = \"))\n",
        "number_2 =int(input(\"Enter a second number = \"))\n",
        "\n",
        "if number_1< number_2 :\n",
        "  dividing = number_1\n",
        "\n",
        "else :\n",
        "  dividing=number_2\n",
        "\n",
        "for i in range(1,dividing + 1):\n",
        "  if number_1% i == 0 and number_2 % i ==0:\n",
        "    output = i\n",
        "\n",
        "print(output)"
      ],
      "metadata": {
        "colab": {
          "base_uri": "https://localhost:8080/"
        },
        "id": "83nm4v9OMA4P",
        "outputId": "56d151ed-dc46-4d41-8db5-60f2b5616b7f"
      },
      "execution_count": 2,
      "outputs": [
        {
          "output_type": "stream",
          "name": "stdout",
          "text": [
            "Enter a first number = 60\n",
            "Enter a second number = 36\n",
            "12\n"
          ]
        }
      ]
    }
  ]
}