{
  "nbformat": 4,
  "nbformat_minor": 0,
  "metadata": {
    "colab": {
      "name": "3)GCD.ipynb",
      "provenance": [],
      "authorship_tag": "ABX9TyONd0q0HLmfuC9UZ6epI4/b",
      "include_colab_link": true
    },
    "kernelspec": {
      "name": "python3",
      "display_name": "Python 3"
    },
    "language_info": {
      "name": "python"
    }
  },
  "cells": [
    {
      "cell_type": "markdown",
      "metadata": {
        "id": "view-in-github",
        "colab_type": "text"
      },
      "source": [
        "<a href=\"https://colab.research.google.com/github/DMB29/ASSIGNMENT1/blob/main/3)GCD.ipynb\" target=\"_parent\"><img src=\"https://colab.research.google.com/assets/colab-badge.svg\" alt=\"Open In Colab\"/></a>"
      ]
    },
    {
      "cell_type": "code",
      "metadata": {
        "colab": {
          "base_uri": "https://localhost:8080/"
        },
        "id": "NsNUAo5HGoJe",
        "outputId": "cc5837b5-0b21-4a49-eda9-df480e5d442b"
      },
      "source": [
        "# Write a Python program to compute the greatest common divisor (GCD) of two positive integers\n",
        "\n",
        "number_1 = int(input(\"Enter a first number = \"))\n",
        "number_2 =int(input(\"Enter a second number = \"))\n",
        "my_list = []\n",
        "if number_1< number_2 :\n",
        "  dividing = number_1\n",
        "\n",
        "else :\n",
        "  dividing=number_2\n",
        "\n",
        "for i in range(1,dividing + 1):\n",
        "  if number_1% i == 0 and number_2 % i ==0:\n",
        "    output = i\n",
        "\n",
        "print(output)\n",
        "           "
      ],
      "execution_count": 25,
      "outputs": [
        {
          "output_type": "stream",
          "name": "stdout",
          "text": [
            "Enter a first number = 45\n",
            "Enter a second number = 105\n",
            "15\n"
          ]
        }
      ]
    }
  ]
}