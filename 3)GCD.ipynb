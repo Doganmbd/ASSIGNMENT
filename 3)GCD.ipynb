{
  "nbformat": 4,
  "nbformat_minor": 0,
  "metadata": {
    "colab": {
      "name": "3)GCD.ipynb",
      "provenance": [],
      "authorship_tag": "ABX9TyN05bZRwb7PcsTlkenAp81j"
    },
    "kernelspec": {
      "name": "python3",
      "display_name": "Python 3"
    },
    "language_info": {
      "name": "python"
    }
  },
  "cells": [
    {
      "cell_type": "code",
      "metadata": {
        "colab": {
          "base_uri": "https://localhost:8080/"
        },
        "id": "NsNUAo5HGoJe",
        "outputId": "2bd861b3-6b8d-4488-8817-3680a1befc01"
      },
      "source": [
        "# Write a Python program to compute the greatest common divisor (GCD) of two positive integers\n",
        "\n",
        "number_1 = int(input(\"Enter a first number = \"))\n",
        "number_2 =int(input(\"Enter a second number = \"))\n",
        "\n",
        "if number_1< number_2 :\n",
        "  dividing = number_1\n",
        "\n",
        "else :\n",
        "  dividing=number_2\n",
        "\n",
        "for i in range(1,dividing + 1):\n",
        "  if number_1% i == 0 and number_2 % i ==0:\n",
        "    output = i\n",
        "\n",
        "print(output)\n",
        "           "
      ],
      "execution_count": 5,
      "outputs": [
        {
          "output_type": "stream",
          "name": "stdout",
          "text": [
            "Enter a first number = 45\n",
            "Enter a second number = 25\n",
            "5\n"
          ]
        }
      ]
    }
  ]
}