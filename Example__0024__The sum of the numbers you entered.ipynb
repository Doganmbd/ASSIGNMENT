{
  "nbformat": 4,
  "nbformat_minor": 0,
  "metadata": {
    "colab": {
      "name": "Example__0024__.ipynb",
      "provenance": [],
      "collapsed_sections": [],
      "authorship_tag": "ABX9TyOq6JvGalMyAPeHp0dJQYzT"
    },
    "kernelspec": {
      "name": "python3",
      "display_name": "Python 3"
    },
    "language_info": {
      "name": "python"
    }
  },
  "cells": [
    {
      "cell_type": "code",
      "execution_count": 5,
      "metadata": {
        "id": "49GsehYQ8x83",
        "colab": {
          "base_uri": "https://localhost:8080/"
        },
        "outputId": "4fbda667-0591-44f9-918f-468ad313c20c"
      },
      "outputs": [
        {
          "output_type": "stream",
          "name": "stdout",
          "text": [
            "Enter the numbers to add and then press q = 12\n",
            "Enter the numbers to add and then press q = 29\n",
            "Enter the numbers to add and then press q = 36\n",
            "Enter the numbers to add and then press q = q\n",
            "The sum of the numbers you entered =  77\n"
          ]
        }
      ],
      "source": [
        "# In each while loop, take a number from the user and add the numbers entered by the user to a variable named \"sum\".\n",
        "# When the user presses the \"q\" key, terminate the loop and print the \"sum variable\" to the screen.\n",
        "\n",
        "# Her while döngüsünde, kullanıcıdan bir sayı alın ve kullanıcı tarafından girilen sayıları \"sum\" adlı bir değişkene ekleyin.\n",
        "# Kullanıcı \"q\" tuşuna bastığında döngüyü sonlandırın ve ekrana \"toplam değişkeni\" yazdırın.\n",
        "\n",
        "sum = 0\n",
        "while True :\n",
        "  number = input(\"Enter the numbers to add and then press q = \")\n",
        "  if number == \"q\" :\n",
        "    break\n",
        "  else:\n",
        "    sum += int(number)\n",
        "\n",
        "print(\"The sum of the numbers you entered = \",sum)"
      ]
    }
  ]
}